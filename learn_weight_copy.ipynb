{
 "cells": [
  {
   "cell_type": "markdown",
   "id": "f5efb18e",
   "metadata": {},
   "source": [
    "你的推理过程（我帮你理清一下）\n",
    "\n",
    "目标变量\n",
    "\n",
    "你最终关心的是 地图复杂度 Complexity\n",
    "\n",
    "但 Complexity 不能直接观测（它只是一个潜在概念/指标）\n",
    "\n",
    "我们能观测到的结果是 success_rate（训练表现）\n",
    "\n",
    "核心假设\n",
    "\n",
    "success_rate 越低 → 地图越难（Complexity 越高）\n",
    "\n",
    "success_rate 越高 → 地图越简单（Complexity 越低）\n",
    "\n",
    "所以：Complexity 是 success_rate 的函数。\n",
    "\n",
    "学习流程\n",
    "\n",
    "Step 1. 用 XGBoost 学习 success_rate ~ 特征(size, agents, density, LDD, BN, MC, DLR, ...) 的非线性关系\n",
    "\n",
    "Step 2. 提取特征重要性（说明哪些特征最影响 success_rate → 哪些特征决定复杂度）\n",
    "\n",
    "Step 3. 把 XGBoost 的非线性结果转化成线性权重公式"
   ]
  },
  {
   "cell_type": "code",
   "execution_count": 14,
   "id": "d150322e",
   "metadata": {},
   "outputs": [
    {
     "name": "stdout",
     "output_type": "stream",
     "text": [
      "📊 特征重要性 (对 success_rate 的影响)：\n",
      "          feature  importance\n",
      "8             FPA    0.291223\n",
      "9             FRA    0.159911\n",
      "2         density    0.113648\n",
      "5              BN    0.106351\n",
      "3  density_actual    0.095563\n",
      "6              MC    0.061285\n",
      "4             LDD    0.051889\n",
      "1      num_agents    0.044743\n",
      "7             DLR    0.042149\n",
      "0            size    0.033238\n",
      "\n",
      "📊 线性权重 (可解释公式)：\n",
      "          feature    weight\n",
      "3  density_actual  0.094523\n",
      "6              MC  0.033021\n",
      "4             LDD  0.021963\n",
      "0            size  0.021643\n",
      "7             DLR  0.003857\n",
      "2         density -0.003044\n",
      "1      num_agents -0.010270\n",
      "9             FRA -0.024654\n",
      "8             FPA -0.058766\n",
      "5              BN -0.092417\n",
      "\n",
      "公式：\n",
      "Complexity = 0.848 + (0.022 * size) + (-0.010 * num_agents) + (-0.003 * density) + (0.095 * density_actual) + (0.022 * LDD) + (-0.092 * BN) + (0.033 * MC) + (0.004 * DLR) + (-0.059 * FPA) + (-0.025 * FRA)\n"
     ]
    }
   ],
   "source": [
    "import pandas as pd\n",
    "import xgboost as xgb\n",
    "from sklearn.linear_model import LinearRegression\n",
    "from sklearn.preprocessing import StandardScaler\n",
    "\n",
    "# 读数据\n",
    "df = pd.read_csv(\"C:/Users/MSc_SEIoT_1/MAPF_G2RL-main - train/train_gray3d-Copy-FDA.csv\")\n",
    "\n",
    "# 特征 & 目标\n",
    "features = [\"size\", \"num_agents\", \"density\", \"density_actual\", \"LDD\", \"BN\", \"MC\", \"DLR\", \"FPA\", \"FRA\"]\n",
    "X = df[features]\n",
    "y = df[\"success_rate\"]\n",
    "\n",
    "# Step 1: 用 XGBoost 学 success_rate\n",
    "xgb_model = xgb.XGBRegressor(\n",
    "    n_estimators=300,\n",
    "    learning_rate=0.05,\n",
    "    max_depth=4,\n",
    "    subsample=0.8,\n",
    "    colsample_bytree=0.8,\n",
    "    random_state=42\n",
    ")\n",
    "xgb_model.fit(X, y)\n",
    "\n",
    "# Step 2: 特征重要性\n",
    "importance = pd.DataFrame({\n",
    "    \"feature\": features,\n",
    "    \"importance\": xgb_model.feature_importances_\n",
    "}).sort_values(\"importance\", ascending=False)\n",
    "\n",
    "print(\"📊 特征重要性 (对 success_rate 的影响)：\")\n",
    "print(importance)\n",
    "\n",
    "# Step 3: 转化成线性权重（拟合可解释公式）\n",
    "scaler = StandardScaler()\n",
    "X_scaled = scaler.fit_transform(X)\n",
    "\n",
    "lr = LinearRegression().fit(X_scaled, y)\n",
    "\n",
    "weights = pd.DataFrame({\n",
    "    \"feature\": features,\n",
    "    \"weight\": lr.coef_\n",
    "}).sort_values(\"weight\", ascending=False)\n",
    "\n",
    "print(\"\\n📊 线性权重 (可解释公式)：\")\n",
    "print(weights)\n",
    "\n",
    "# Step 4: Complexity = 1 - success_rate\n",
    "# 你也可以直接用 1 - success_rate 或者把 success_rate 回归结果反转\n",
    "df[\"Complexity\"] = 1 - y\n",
    "\n",
    "print(\"\\n公式：\")\n",
    "print(\"Complexity = {:.3f} + \".format(lr.intercept_) +\n",
    "      \" + \".join(f\"({w:.3f} * {f})\" for f, w in zip(features, lr.coef_)))\n"
   ]
  },
  {
   "cell_type": "code",
   "execution_count": 15,
   "id": "dde4de7e",
   "metadata": {},
   "outputs": [
    {
     "name": "stdout",
     "output_type": "stream",
     "text": [
      "Target = success_rate\n",
      "R^2 train = 0.932, R^2 test = 0.707, RMSE test = 0.0563, MAE test = 0.0443\n",
      "\n",
      "=== Complexity 权重（基于 Permutation Importance 归一化） ===\n",
      "          feature  weight_norm\n",
      "8             FPA     0.803973\n",
      "9             FRA     0.104439\n",
      "3  density_actual     0.056986\n",
      "6              MC     0.017920\n",
      "2         density     0.016682\n",
      "7             DLR     0.000000\n",
      "1      num_agents     0.000000\n",
      "5              BN     0.000000\n",
      "0            size     0.000000\n",
      "4             LDD     0.000000\n",
      "\n",
      "=== 线性可解释“蒸馏”公式（输入为标准化后的 z 分数） ===\n",
      "ŷ = 0.849580 + (+0.030194·size_z) + (-0.005511·num_agents_z) + (+0.052293·density_z) + (+0.172724·density_actual_z) + (+0.029522·LDD_z) + (-0.170371·BN_z) + (+0.042245·MC_z) + (+0.001388·DLR_z) + (+0.001722·FPA_z) + (-0.025867·FRA_z)\n",
      "Feature importance: C:/Users/MSc_SEIoT_1/Desktop/pic/xgb_feature_importance.png\n",
      "Permutation importance: C:/Users/MSc_SEIoT_1/Desktop/pic/permutation_importance.png\n",
      "Pred vs Actual: C:/Users/MSc_SEIoT_1/Desktop/pic/pred_vs_actual.png\n",
      "Residuals vs Pred: C:/Users/MSc_SEIoT_1/Desktop/pic/residuals_vs_pred.png\n",
      "Residuals histogram: C:/Users/MSc_SEIoT_1/Desktop/pic/residuals_hist.png\n",
      "PDP (top 3): C:/Users/MSc_SEIoT_1/Desktop/pic/pdp_MC.png, C:/Users/MSc_SEIoT_1/Desktop/pic/pdp_density.png, C:/Users/MSc_SEIoT_1/Desktop/pic/pdp_LDD.png\n",
      "Complexity 权重 CSV: C:/Users/MSc_SEIoT_1/Desktop/pic/complexity_weights_from_PI.csv\n",
      "线性系数 CSV: C:/Users/MSc_SEIoT_1/Desktop/pic/linear_surrogate_coeffs.csv\n"
     ]
    }
   ],
   "source": [
    "# ================================\n",
    "# XGBoost 特征学习 + 可视化 + 权重提取 + 线性公式\n",
    "# ================================\n",
    "import os\n",
    "import numpy as np\n",
    "import pandas as pd\n",
    "import matplotlib.pyplot as plt\n",
    "import xgboost as xgb\n",
    "from pathlib import Path\n",
    "\n",
    "from sklearn.model_selection import train_test_split\n",
    "from sklearn.metrics import r2_score, mean_squared_error, mean_absolute_error\n",
    "from sklearn.inspection import permutation_importance\n",
    "from sklearn.preprocessing import StandardScaler\n",
    "from sklearn.linear_model import LinearRegression\n",
    "\n",
    "# ---------- 0) 参数 ----------\n",
    "# === 你的原始配置 ===\n",
    "CSV_PATH = r\"C:/Users/MSc_SEIoT_1/MAPF_G2RL-main - train/train_gray3d-Copy-FDA.csv\"\n",
    "OUTDIR   = r\"C:/Users/MSc_SEIoT_1/Desktop/pic\"\n",
    "\n",
    "# === 统一用 Path，确保目录存在 ===\n",
    "OUTDIR = Path(OUTDIR)\n",
    "OUTDIR.mkdir(parents=True, exist_ok=True)\n",
    "\n",
    "def out_path(name: str) -> Path:\n",
    "    return OUTDIR / name\n",
    "\n",
    "def norm(p: Path) -> str:\n",
    "    # 打印时一律用正斜杠\n",
    "    return p.as_posix()\n",
    "\n",
    "# 使用到的特征与目标\n",
    "FEATURES = [\"size\", \"num_agents\", \"density\", \"density_actual\", \"LDD\", \"BN\", \"MC\", \"DLR\", \"FPA\", \"FRA\"]\n",
    "TARGET   = \"success_rate\"  # 首选目标\n",
    "\n",
    "# ---------- 1) 读数据 & 清洗 ----------\n",
    "df = pd.read_csv(CSV_PATH, engine=\"python\")\n",
    "\n",
    "# 强制转数值\n",
    "for col in FEATURES + [TARGET]:\n",
    "    if col in df.columns:\n",
    "        df[col] = pd.to_numeric(df[col], errors=\"coerce\")\n",
    "\n",
    "# 选择目标：优先 success_rate；如果全无效，回退到 Complexity proxy\n",
    "use_success = False\n",
    "if TARGET in df.columns:\n",
    "    y_ok = df[TARGET].notna() & np.isfinite(df[TARGET]) & (df[TARGET] >= 0) & (df[TARGET] <= 1)\n",
    "    if int(y_ok.sum()) > 0:\n",
    "        use_success = True\n",
    "        y = df.loc[y_ok, TARGET]\n",
    "        X = df.loc[y_ok, FEATURES]\n",
    "    else:\n",
    "        y = df[[\"LDD\", \"BN\", \"MC\", \"DLR\", \"FPA\", \"FRA\"]].mean(axis=1)\n",
    "        X = df[FEATURES]\n",
    "else:\n",
    "    y = df[[\"LDD\", \"BN\", \"MC\", \"DLR\", \"FPA\", \"FRA\"]].mean(axis=1)\n",
    "    X = df[FEATURES]\n",
    "\n",
    "# 特征用中位数补缺，保证稳定绘图\n",
    "X = X.fillna(X.median(numeric_only=True))\n",
    "\n",
    "# ---------- 2) 划分数据 ----------\n",
    "X_train, X_test, y_train, y_test = train_test_split(\n",
    "    X, y, test_size=0.2, random_state=42\n",
    ")\n",
    "\n",
    "# ---------- 3) 训练 XGBoost ----------\n",
    "xgb_model = xgb.XGBRegressor(\n",
    "    n_estimators=300,\n",
    "    learning_rate=0.05,\n",
    "    max_depth=4,\n",
    "    subsample=0.8,\n",
    "    colsample_bytree=0.8,\n",
    "    tree_method=\"hist\",\n",
    "    random_state=42\n",
    ")\n",
    "xgb_model.fit(X_train, y_train)\n",
    "\n",
    "# ---------- 4) 评估 ----------\n",
    "y_pred_tr = xgb_model.predict(X_train)\n",
    "y_pred_te = xgb_model.predict(X_test)\n",
    "\n",
    "r2_tr = r2_score(y_train, y_pred_tr)\n",
    "r2_te = r2_score(y_test, y_pred_te)\n",
    "rmse_te = mean_squared_error(y_test, y_pred_te, squared=False)\n",
    "mae_te = mean_absolute_error(y_test, y_pred_te)\n",
    "\n",
    "print(f\"Target = {'success_rate' if use_success else 'Complexity proxy (mean of LDD/BN/MC/DLR)'}\")\n",
    "print(f\"R^2 train = {r2_tr:.3f}, R^2 test = {r2_te:.3f}, RMSE test = {rmse_te:.4f}, MAE test = {mae_te:.4f}\")\n",
    "\n",
    "# ---------- 5) 内置特征重要性 ----------\n",
    "imp_df = pd.DataFrame({\n",
    "    \"feature\": FEATURES,\n",
    "    \"importance\": xgb_model.feature_importances_\n",
    "}).sort_values(\"importance\", ascending=True)\n",
    "\n",
    "plt.figure(figsize=(7, 4.5))\n",
    "plt.barh(imp_df[\"feature\"], imp_df[\"importance\"])\n",
    "plt.xlabel(\"Importance\")\n",
    "plt.title(\"XGBoost Feature Importance\" + (\" (success_rate)\" if use_success else \" (Complexity proxy)\"))\n",
    "plt.tight_layout()\n",
    "fi_path = os.path.join(OUTDIR, \"xgb_feature_importance.png\")\n",
    "plt.savefig(fi_path)\n",
    "plt.close()\n",
    "\n",
    "# ---------- 6) Permutation Importance（测试集，更稳健） ----------\n",
    "pi = permutation_importance(\n",
    "    xgb_model, X_test, y_test, n_repeats=15, random_state=42, n_jobs=1\n",
    ")\n",
    "pi_df = pd.DataFrame({\n",
    "    \"feature\": FEATURES,\n",
    "    \"perm_importance\": pi.importances_mean,\n",
    "    \"perm_std\": pi.importances_std\n",
    "}).sort_values(\"perm_importance\", ascending=True)\n",
    "\n",
    "plt.figure(figsize=(7, 4.5))\n",
    "plt.barh(pi_df[\"feature\"], pi_df[\"perm_importance\"])\n",
    "plt.xlabel(\"Permutation Importance (mean)\")\n",
    "plt.title(\"Permutation Importance on Test Set\")\n",
    "plt.tight_layout()\n",
    "pi_path = os.path.join(OUTDIR, \"permutation_importance.png\")\n",
    "plt.savefig(pi_path)\n",
    "plt.close()\n",
    "\n",
    "# ---------- 7) 预测 vs 实际 ----------\n",
    "xy_min = float(min(y_test.min(), y_pred_te.min()))\n",
    "xy_max = float(max(y_test.max(), y_pred_te.max()))\n",
    "\n",
    "plt.figure(figsize=(6, 6))\n",
    "plt.scatter(y_test, y_pred_te, s=16)\n",
    "plt.plot([xy_min, xy_max], [xy_min, xy_max])\n",
    "plt.xlabel(\"Actual\")\n",
    "plt.ylabel(\"Predicted\")\n",
    "ttl = \"Predicted vs Actual (XGBoost)\"\n",
    "ttl += f\"\\nR²={r2_te:.3f}, RMSE={rmse_te:.3f}, MAE={mae_te:.3f}\"\n",
    "plt.title(ttl)\n",
    "plt.tight_layout()\n",
    "pva_path = os.path.join(OUTDIR, \"pred_vs_actual.png\")\n",
    "plt.savefig(pva_path)\n",
    "plt.close()\n",
    "\n",
    "# ---------- 8) 残差图 ----------\n",
    "residuals = y_test - y_pred_te\n",
    "plt.figure(figsize=(7, 4))\n",
    "plt.scatter(y_pred_te, residuals, s=12)\n",
    "plt.axhline(0)\n",
    "plt.xlabel(\"Predicted\")\n",
    "plt.ylabel(\"Residual (Actual - Pred)\")\n",
    "plt.title(\"Residuals vs Predicted\")\n",
    "plt.tight_layout()\n",
    "rvp_path = os.path.join(OUTDIR, \"residuals_vs_pred.png\")\n",
    "plt.savefig(rvp_path)\n",
    "plt.close()\n",
    "\n",
    "# 残差直方图\n",
    "plt.figure(figsize=(7, 4))\n",
    "plt.hist(residuals, bins=20)\n",
    "plt.xlabel(\"Residual\")\n",
    "plt.ylabel(\"Count\")\n",
    "plt.title(\"Residuals Histogram\")\n",
    "plt.tight_layout()\n",
    "rhist_path = os.path.join(OUTDIR, \"residuals_hist.png\")\n",
    "plt.savefig(rhist_path)\n",
    "plt.close()\n",
    "\n",
    "# ---------- 9) 前 3 特征的 PDP ----------\n",
    "top3 = list(imp_df.sort_values(\"importance\", ascending=False)[\"feature\"][:3])\n",
    "baseline = X_train.median(numeric_only=True)\n",
    "pdp_paths = []\n",
    "\n",
    "for f in top3:\n",
    "    f_min, f_max = X_train[f].min(), X_train[f].max()\n",
    "    grid = np.linspace(f_min, f_max, 70)\n",
    "\n",
    "    # 基线为各特征中位数，仅改变一个特征 f\n",
    "    X_grid = np.repeat(baseline.values.reshape(1, -1), len(grid), axis=0)\n",
    "    X_grid = pd.DataFrame(X_grid, columns=FEATURES)\n",
    "    X_grid[f] = grid\n",
    "\n",
    "    preds = xgb_model.predict(X_grid)\n",
    "\n",
    "    plt.figure(figsize=(7, 4))\n",
    "    plt.plot(grid, preds)\n",
    "    plt.xlabel(f)\n",
    "    plt.ylabel(\"Predicted \" + (\"success_rate\" if use_success else \"Complexity proxy\"))\n",
    "    plt.title(\"Partial Dependence: \" + f)\n",
    "    plt.tight_layout()\n",
    "    outp = os.path.join(OUTDIR, f\"pdp_{f}.png\")\n",
    "    plt.savefig(outp)\n",
    "    plt.close()\n",
    "    pdp_paths.append(outp)\n",
    "\n",
    "# ---------- 10) 基于 Permutation Importance 的“Complexity 权重” ----------\n",
    "# 若有负值（噪声造成的），裁剪为0后再归一化\n",
    "pi_pos = pi_df.copy()\n",
    "pi_pos[\"perm_importance_clipped\"] = pi_pos[\"perm_importance\"].clip(lower=0)\n",
    "total = pi_pos[\"perm_importance_clipped\"].sum()\n",
    "if total == 0:\n",
    "    # 如果全是0，退化为等权\n",
    "    pi_pos[\"weight_norm\"] = 1.0 / len(pi_pos)\n",
    "else:\n",
    "    pi_pos[\"weight_norm\"] = pi_pos[\"perm_importance_clipped\"] / total\n",
    "\n",
    "# 为了直观展示“对复杂度的贡献”，我们通常让“成功率的负相关特征”获得正的复杂度权重。\n",
    "# 这里简单做一个符号翻转：如果 XGBoost 的 SHAP 或方向没有估，先给出无方向的正权重（用在加权综合上）。\n",
    "# 你也可以后续用 SHAP 判断方向，再给权重加 +/- 号。\n",
    "weights_csv = os.path.join(OUTDIR, \"complexity_weights_from_PI.csv\")\n",
    "pi_pos[[\"feature\", \"weight_norm\"]].sort_values(\"weight_norm\", ascending=False).to_csv(weights_csv, index=False)\n",
    "\n",
    "print(\"\\n=== Complexity 权重（基于 Permutation Importance 归一化） ===\")\n",
    "print(pi_pos[[\"feature\", \"weight_norm\"]].sort_values(\"weight_norm\", ascending=False))\n",
    "\n",
    "# ---------- 11) 线性可解释公式（模型蒸馏） ----------\n",
    "# 用 XGBoost 的预测作为 teacher target，对标准化特征做线性回归，得到可解释公式\n",
    "scaler = StandardScaler()\n",
    "X_tr_scaled = scaler.fit_transform(X_train)\n",
    "X_te_scaled = scaler.transform(X_test)\n",
    "\n",
    "teacher_tr = xgb_model.predict(X_train)\n",
    "teacher_te = xgb_model.predict(X_test)\n",
    "\n",
    "lin = LinearRegression().fit(X_tr_scaled, teacher_tr)\n",
    "coef = lin.coef_\n",
    "intercept = lin.intercept_\n",
    "\n",
    "formula = \"ŷ = {:.6f} + \".format(intercept) + \" + \".join(\n",
    "    f\"({w:+.6f}·{name}_z)\" for w, name in zip(coef, FEATURES)\n",
    ")\n",
    "\n",
    "print(\"\\n=== 线性可解释“蒸馏”公式（输入为标准化后的 z 分数） ===\")\n",
    "print(formula)\n",
    "\n",
    "# 保存线性系数\n",
    "coef_df = pd.DataFrame({\"feature\": FEATURES, \"coef_on_z\": coef})\n",
    "coef_path = os.path.join(OUTDIR, \"linear_surrogate_coeffs.csv\")\n",
    "coef_df.sort_values(\"coef_on_z\", ascending=False).to_csv(coef_path, index=False)\n",
    "\n",
    "# # ---------- 12) 路径汇总 ----------\n",
    "\n",
    "# === 用法示例（保存 & 打印）===\n",
    "fig_imp_path   = out_path(\"xgb_feature_importance.png\")\n",
    "perm_imp_path  = out_path(\"permutation_importance.png\")\n",
    "pred_act_path  = out_path(\"pred_vs_actual.png\")\n",
    "resid_pred_path= out_path(\"residuals_vs_pred.png\")\n",
    "resid_hist_path= out_path(\"residuals_hist.png\")\n",
    "pdp_mc_path    = out_path(\"pdp_MC.png\")\n",
    "pdp_den_path   = out_path(\"pdp_density.png\")\n",
    "pdp_ldd_path   = out_path(\"pdp_LDD.png\")\n",
    "w_csv_path     = out_path(\"complexity_weights_from_PI.csv\")\n",
    "lin_csv_path   = out_path(\"linear_surrogate_coeffs.csv\")\n",
    "\n",
    "# 保存图片/CSV 时：\n",
    "# plt.savefig(fig_imp_path)  # 其余同理\n",
    "# df.to_csv(w_csv_path, index=False, encoding=\"utf-8-sig\")\n",
    "\n",
    "# 打印时（统一格式）\n",
    "print(\"Feature importance:\",          norm(fig_imp_path))\n",
    "print(\"Permutation importance:\",      norm(perm_imp_path))\n",
    "print(\"Pred vs Actual:\",              norm(pred_act_path))\n",
    "print(\"Residuals vs Pred:\",           norm(resid_pred_path))\n",
    "print(\"Residuals histogram:\",         norm(resid_hist_path))\n",
    "print(\"PDP (top 3):\",                 norm(pdp_mc_path)+\",\", norm(pdp_den_path)+\",\", norm(pdp_ldd_path))\n",
    "print(\"Complexity 权重 CSV:\",          norm(w_csv_path))\n",
    "print(\"线性系数 CSV:\",                 norm(lin_csv_path))\n",
    "# print(\"\\n=== 输出文件 ===\")\n",
    "# print(\"Feature importance:\", fi_path)\n",
    "# print(\"Permutation importance:\", pi_path)\n",
    "# print(\"Pred vs Actual:\", pva_path)\n",
    "# print(\"Residuals vs Pred:\", rvp_path)\n",
    "# print(\"Residuals histogram:\", rhist_path)\n",
    "# print(\"PDP (top 3):\", \", \".join(pdp_paths))\n",
    "# print(\"Complexity 权重 CSV:\", weights_csv)\n",
    "# print(\"线性系数 CSV:\", coef_path)\n"
   ]
  },
  {
   "cell_type": "code",
   "execution_count": 16,
   "id": "3f422c38",
   "metadata": {},
   "outputs": [
    {
     "name": "stdout",
     "output_type": "stream",
     "text": [
      "Data loaded: (122, 19)\n",
      "        algo  stage_idx      config_id  \\\n",
      "0  CL-Gray3D          0  sz32_a2_d0.10   \n",
      "1  CL-Gray3D          0  sz32_a2_d0.10   \n",
      "2  CL-Gray3D          1  sz32_a2_d0.30   \n",
      "3  CL-Gray3D          2  sz32_a2_d0.50   \n",
      "4  CL-Gray3D          3  sz32_a2_d0.70   \n",
      "\n",
      "                                         config_json  size  num_agents  \\\n",
      "0  {\"size\":32,\"obs_radius\":5,\"density\":0.1,\"num_a...    32           2   \n",
      "1  {\"max_episode_steps\":100,\"size\":32,\"density\":0...    32           2   \n",
      "2  {\"max_episode_steps\":100,\"size\":32,\"density\":0...    32           2   \n",
      "3  {\"max_episode_steps\":100,\"size\":32,\"density\":0...    32           2   \n",
      "4  {\"max_episode_steps\":100,\"size\":32,\"density\":0...    32           2   \n",
      "\n",
      "   density  obs_radius  max_episode_steps  density_actual       LDD        BN  \\\n",
      "0      0.1           5                100        0.207031  0.030569  0.094828   \n",
      "1      0.1           5                100        0.207031  0.030569  0.094828   \n",
      "2      0.3           5                100        0.207031  0.030569  0.094828   \n",
      "3      0.5           5                100        0.207031  0.030569  0.094828   \n",
      "4      0.7           5                100        0.207031  0.030569  0.094828   \n",
      "\n",
      "    MC       DLR  success_rate         grid_hash  episodes_per_stage  \\\n",
      "0  1.0  0.007986         0.800  b6d75382fb9dd408                 200   \n",
      "1  1.0  0.007986         0.765  b6d75382fb9dd408                 200   \n",
      "2  1.0  0.007986         0.865  b6d75382fb9dd408                 200   \n",
      "3  1.0  0.007986         0.985  b6d75382fb9dd408                 200   \n",
      "4  1.0  0.007986         0.990  b6d75382fb9dd408                 200   \n",
      "\n",
      "        FRA       FPA  \n",
      "0  0.866379  0.792969  \n",
      "1  0.866379  0.792969  \n",
      "2  0.687107  0.621094  \n",
      "3  0.473451  0.441406  \n",
      "4  0.298450  0.251953  \n"
     ]
    }
   ],
   "source": [
    "# 基础依赖\n",
    "import os\n",
    "import numpy as np\n",
    "import pandas as pd\n",
    "import matplotlib.pyplot as plt\n",
    "\n",
    "# 模型和工具\n",
    "from sklearn.model_selection import train_test_split, GridSearchCV\n",
    "from sklearn.preprocessing import StandardScaler, PolynomialFeatures\n",
    "from sklearn.linear_model import Ridge, Lasso, LinearRegression\n",
    "from sklearn.metrics import r2_score, mean_squared_error, mean_absolute_error\n",
    "import xgboost as xgb\n",
    "\n",
    "# 修改成你的CSV路径\n",
    "CSV_PATH = \"C:/Users/MSc_SEIoT_1/MAPF_G2RL-main - train/train_gray3d-Copy-FDA.csv\"\n",
    "\n",
    "df = pd.read_csv(CSV_PATH)\n",
    "print(\"Data loaded:\", df.shape)\n",
    "print(df.head())\n"
   ]
  },
  {
   "cell_type": "code",
   "execution_count": 17,
   "id": "7024cf7e",
   "metadata": {},
   "outputs": [
    {
     "name": "stdout",
     "output_type": "stream",
     "text": [
      "Using features: ['size', 'num_agents', 'density', 'density_actual', 'LDD', 'BN', 'MC', 'DLR', 'FPA', 'FRA']\n"
     ]
    }
   ],
   "source": [
    "# 目标列（复杂度 / 成功率）\n",
    "TARGET_COL = \"success_rate\"   # 或者 \"Complexity\"，看你的数据\n",
    "\n",
    "# 候选特征（根据你的 CSV 调整）\n",
    "FEATURES = [\n",
    "    \"size\", \"num_agents\", \"density\", \"density_actual\",\n",
    "    \"LDD\", \"BN\", \"MC\", \"DLR\", \"FPA\", \"FRA\"\n",
    "]\n",
    "\n",
    "# 保留实际存在的特征\n",
    "features = [f for f in FEATURES if f in df.columns]\n",
    "print(\"Using features:\", features)\n",
    "\n",
    "X = df[features].fillna(0).values\n",
    "y = df[TARGET_COL].values\n"
   ]
  },
  {
   "cell_type": "code",
   "execution_count": 18,
   "id": "6fd68b6d",
   "metadata": {},
   "outputs": [],
   "source": [
    "# 划分训练集和测试集\n",
    "X_train, X_test, y_train, y_test = train_test_split(\n",
    "    X, y, test_size=0.2, random_state=42\n",
    ")\n",
    "\n",
    "# 标准化（防止特征尺度差异影响线性模型）\n",
    "scaler = StandardScaler()\n",
    "X_train_scaled = scaler.fit_transform(X_train)\n",
    "X_test_scaled = scaler.transform(X_test)\n"
   ]
  },
  {
   "cell_type": "code",
   "execution_count": 19,
   "id": "fbba2c18",
   "metadata": {},
   "outputs": [
    {
     "name": "stdout",
     "output_type": "stream",
     "text": [
      "原始维度: (97, 10)  -> 加入交互后: (97, 55)\n"
     ]
    }
   ],
   "source": [
    "poly = PolynomialFeatures(degree=2, interaction_only=True, include_bias=False)\n",
    "\n",
    "X_train_poly = poly.fit_transform(X_train_scaled)\n",
    "X_test_poly = poly.transform(X_test_scaled)\n",
    "\n",
    "print(\"原始维度:\", X_train_scaled.shape, \" -> 加入交互后:\", X_train_poly.shape)\n"
   ]
  },
  {
   "cell_type": "code",
   "execution_count": 20,
   "id": "7f775f98",
   "metadata": {},
   "outputs": [
    {
     "name": "stdout",
     "output_type": "stream",
     "text": [
      "Linear: R²=0.538, RMSE=0.071, MAE=0.055\n",
      "Ridge: R²=0.755, RMSE=0.051, MAE=0.040\n",
      "Lasso: R²=0.722, RMSE=0.055, MAE=0.042\n"
     ]
    }
   ],
   "source": [
    "models = {\n",
    "    \"Linear\": LinearRegression(),\n",
    "    \"Ridge\": Ridge(alpha=1.0),\n",
    "    \"Lasso\": Lasso(alpha=0.001)\n",
    "}\n",
    "\n",
    "for name, model in models.items():\n",
    "    model.fit(X_train_poly, y_train)\n",
    "    y_pred = model.predict(X_test_poly)\n",
    "    print(f\"{name}: R²={r2_score(y_test, y_pred):.3f}, \"\n",
    "          f\"RMSE={mean_squared_error(y_test, y_pred, squared=False):.3f}, \"\n",
    "          f\"MAE={mean_absolute_error(y_test, y_pred):.3f}\")\n"
   ]
  },
  {
   "cell_type": "code",
   "execution_count": 21,
   "id": "29eb85f3",
   "metadata": {},
   "outputs": [
    {
     "name": "stdout",
     "output_type": "stream",
     "text": [
      "XGBoost: R²=0.700, RMSE=0.057, MAE=0.045\n"
     ]
    }
   ],
   "source": [
    "xgb_model = xgb.XGBRegressor(\n",
    "    objective=\"reg:squarederror\",\n",
    "    random_state=42,\n",
    "    n_estimators=500,\n",
    "    learning_rate=0.05,\n",
    "    max_depth=4,\n",
    "    subsample=0.8,\n",
    "    colsample_bytree=0.8\n",
    ")\n",
    "\n",
    "xgb_model.fit(X_train_scaled, y_train)\n",
    "\n",
    "y_pred_xgb = xgb_model.predict(X_test_scaled)\n",
    "\n",
    "print(\"XGBoost: R²=%.3f, RMSE=%.3f, MAE=%.3f\" % (\n",
    "    r2_score(y_test, y_pred_xgb),\n",
    "    mean_squared_error(y_test, y_pred_xgb, squared=False),\n",
    "    mean_absolute_error(y_test, y_pred_xgb)\n",
    "))\n"
   ]
  },
  {
   "cell_type": "code",
   "execution_count": 24,
   "id": "ed7bfaf8",
   "metadata": {},
   "outputs": [
    {
     "name": "stdout",
     "output_type": "stream",
     "text": [
      "Loaded: C:/Users/MSc_SEIoT_1/MAPF_G2RL-main - train/train_gray3d-Copy-FDA.csv\n",
      "Columns: ['algo', 'stage_idx', 'config_id', 'config_json', 'size', 'num_agents', 'density', 'obs_radius', 'max_episode_steps', 'density_actual', 'LDD', 'BN', 'MC', 'DLR', 'success_rate', 'grid_hash', 'episodes_per_stage', 'FRA', 'FPA']\n",
      "Shape: (122, 19)\n"
     ]
    }
   ],
   "source": [
    "# Cell 1: imports & data loading\n",
    "import os\n",
    "import numpy as np\n",
    "import pandas as pd\n",
    "from sklearn.model_selection import train_test_split, GridSearchCV, KFold\n",
    "from sklearn.metrics import r2_score, mean_squared_error, mean_absolute_error\n",
    "import matplotlib.pyplot as plt\n",
    "\n",
    "# xgboost\n",
    "from xgboost import XGBRegressor\n",
    "\n",
    "# 你的数据路径（修改为实际路径）\n",
    "CSV_PATH = r\"C:/Users/MSc_SEIoT_1/MAPF_G2RL-main - train/train_gray3d-Copy-FDA.csv\"\n",
    "\n",
    "df = pd.read_csv(CSV_PATH)\n",
    "print(\"Loaded:\", CSV_PATH)\n",
    "print(\"Columns:\", list(df.columns))\n",
    "print(\"Shape:\", df.shape)\n",
    "\n",
    "# 目标列（按你的场景改：success_rate / Complexity / ...）\n",
    "TARGET_COL = \"success_rate\"   # ← 如果是别的列名，改这里\n"
   ]
  },
  {
   "cell_type": "code",
   "execution_count": 25,
   "id": "a3aa4574",
   "metadata": {},
   "outputs": [
    {
     "name": "stdout",
     "output_type": "stream",
     "text": [
      "Using target: success_rate\n",
      "Using features: ['stage_idx', 'size', 'num_agents', 'density', 'obs_radius', 'max_episode_steps', 'density_actual', 'LDD', 'BN', 'MC', 'DLR', 'episodes_per_stage', 'FRA', 'FPA']\n",
      "Final dataset shape: (122, 14) (122,)\n"
     ]
    }
   ],
   "source": [
    "# Cell 2: feature selection\n",
    "# 如果你已经有 FEATURE_COLS，就直接设定；否则自动从数值列里排除目标列\n",
    "FEATURE_COLS = None  # ← 若已有固定特征列表，例如 [\"size\",\"num_agents\",\"density\",...]，直接设为该列表\n",
    "\n",
    "if FEATURE_COLS is None:\n",
    "    numeric_cols = df.select_dtypes(include=[np.number]).columns.tolist()\n",
    "    FEATURE_COLS = [c for c in numeric_cols if c != TARGET_COL]\n",
    "\n",
    "print(\"Using target:\", TARGET_COL)\n",
    "print(\"Using features:\", FEATURE_COLS)\n",
    "\n",
    "# 丢掉缺失\n",
    "data = df.dropna(subset=[TARGET_COL] + FEATURE_COLS).copy()\n",
    "X = data[FEATURE_COLS].values\n",
    "y = data[TARGET_COL].astype(float).values\n",
    "\n",
    "print(\"Final dataset shape:\", X.shape, y.shape)\n"
   ]
  },
  {
   "cell_type": "code",
   "execution_count": 26,
   "id": "cadce188",
   "metadata": {},
   "outputs": [
    {
     "data": {
      "text/plain": [
       "((91, 14), (31, 14))"
      ]
     },
     "execution_count": 26,
     "metadata": {},
     "output_type": "execute_result"
    }
   ],
   "source": [
    "# Cell 3: train/test split\n",
    "X_train, X_test, y_train, y_test = train_test_split(\n",
    "    X, y,\n",
    "    test_size=0.25,\n",
    "    random_state=42,\n",
    "    shuffle=True,\n",
    ")\n",
    "X_train.shape, X_test.shape\n"
   ]
  },
  {
   "cell_type": "code",
   "execution_count": 27,
   "id": "57a6af03",
   "metadata": {},
   "outputs": [
    {
     "data": {
      "text/html": [
       "<style>#sk-container-id-1 {color: black;}#sk-container-id-1 pre{padding: 0;}#sk-container-id-1 div.sk-toggleable {background-color: white;}#sk-container-id-1 label.sk-toggleable__label {cursor: pointer;display: block;width: 100%;margin-bottom: 0;padding: 0.3em;box-sizing: border-box;text-align: center;}#sk-container-id-1 label.sk-toggleable__label-arrow:before {content: \"▸\";float: left;margin-right: 0.25em;color: #696969;}#sk-container-id-1 label.sk-toggleable__label-arrow:hover:before {color: black;}#sk-container-id-1 div.sk-estimator:hover label.sk-toggleable__label-arrow:before {color: black;}#sk-container-id-1 div.sk-toggleable__content {max-height: 0;max-width: 0;overflow: hidden;text-align: left;background-color: #f0f8ff;}#sk-container-id-1 div.sk-toggleable__content pre {margin: 0.2em;color: black;border-radius: 0.25em;background-color: #f0f8ff;}#sk-container-id-1 input.sk-toggleable__control:checked~div.sk-toggleable__content {max-height: 200px;max-width: 100%;overflow: auto;}#sk-container-id-1 input.sk-toggleable__control:checked~label.sk-toggleable__label-arrow:before {content: \"▾\";}#sk-container-id-1 div.sk-estimator input.sk-toggleable__control:checked~label.sk-toggleable__label {background-color: #d4ebff;}#sk-container-id-1 div.sk-label input.sk-toggleable__control:checked~label.sk-toggleable__label {background-color: #d4ebff;}#sk-container-id-1 input.sk-hidden--visually {border: 0;clip: rect(1px 1px 1px 1px);clip: rect(1px, 1px, 1px, 1px);height: 1px;margin: -1px;overflow: hidden;padding: 0;position: absolute;width: 1px;}#sk-container-id-1 div.sk-estimator {font-family: monospace;background-color: #f0f8ff;border: 1px dotted black;border-radius: 0.25em;box-sizing: border-box;margin-bottom: 0.5em;}#sk-container-id-1 div.sk-estimator:hover {background-color: #d4ebff;}#sk-container-id-1 div.sk-parallel-item::after {content: \"\";width: 100%;border-bottom: 1px solid gray;flex-grow: 1;}#sk-container-id-1 div.sk-label:hover label.sk-toggleable__label {background-color: #d4ebff;}#sk-container-id-1 div.sk-serial::before {content: \"\";position: absolute;border-left: 1px solid gray;box-sizing: border-box;top: 0;bottom: 0;left: 50%;z-index: 0;}#sk-container-id-1 div.sk-serial {display: flex;flex-direction: column;align-items: center;background-color: white;padding-right: 0.2em;padding-left: 0.2em;position: relative;}#sk-container-id-1 div.sk-item {position: relative;z-index: 1;}#sk-container-id-1 div.sk-parallel {display: flex;align-items: stretch;justify-content: center;background-color: white;position: relative;}#sk-container-id-1 div.sk-item::before, #sk-container-id-1 div.sk-parallel-item::before {content: \"\";position: absolute;border-left: 1px solid gray;box-sizing: border-box;top: 0;bottom: 0;left: 50%;z-index: -1;}#sk-container-id-1 div.sk-parallel-item {display: flex;flex-direction: column;z-index: 1;position: relative;background-color: white;}#sk-container-id-1 div.sk-parallel-item:first-child::after {align-self: flex-end;width: 50%;}#sk-container-id-1 div.sk-parallel-item:last-child::after {align-self: flex-start;width: 50%;}#sk-container-id-1 div.sk-parallel-item:only-child::after {width: 0;}#sk-container-id-1 div.sk-dashed-wrapped {border: 1px dashed gray;margin: 0 0.4em 0.5em 0.4em;box-sizing: border-box;padding-bottom: 0.4em;background-color: white;}#sk-container-id-1 div.sk-label label {font-family: monospace;font-weight: bold;display: inline-block;line-height: 1.2em;}#sk-container-id-1 div.sk-label-container {text-align: center;}#sk-container-id-1 div.sk-container {/* jupyter's `normalize.less` sets `[hidden] { display: none; }` but bootstrap.min.css set `[hidden] { display: none !important; }` so we also need the `!important` here to be able to override the default hidden behavior on the sphinx rendered scikit-learn.org. See: https://github.com/scikit-learn/scikit-learn/issues/21755 */display: inline-block !important;position: relative;}#sk-container-id-1 div.sk-text-repr-fallback {display: none;}</style><div id=\"sk-container-id-1\" class=\"sk-top-container\"><div class=\"sk-text-repr-fallback\"><pre>GridSearchCV(cv=KFold(n_splits=5, random_state=42, shuffle=True),\n",
       "             estimator=XGBRegressor(base_score=None, booster=None,\n",
       "                                    callbacks=None, colsample_bylevel=None,\n",
       "                                    colsample_bynode=None,\n",
       "                                    colsample_bytree=None, device=None,\n",
       "                                    early_stopping_rounds=None,\n",
       "                                    enable_categorical=False, eval_metric=None,\n",
       "                                    feature_types=None, gamma=None,\n",
       "                                    grow_policy=None, importance_type=None,\n",
       "                                    inte...\n",
       "                                    n_jobs=-1, num_parallel_tree=None,\n",
       "                                    random_state=42, ...),\n",
       "             n_jobs=-1,\n",
       "             param_grid={&#x27;colsample_bytree&#x27;: [0.7, 0.9, 1.0],\n",
       "                         &#x27;learning_rate&#x27;: [0.03, 0.05, 0.1],\n",
       "                         &#x27;max_depth&#x27;: [3, 5, 7], &#x27;min_child_weight&#x27;: [1, 3, 5],\n",
       "                         &#x27;n_estimators&#x27;: [200, 400, 800],\n",
       "                         &#x27;reg_alpha&#x27;: [0.0, 0.001, 0.01],\n",
       "                         &#x27;reg_lambda&#x27;: [1.0, 5.0, 10.0],\n",
       "                         &#x27;subsample&#x27;: [0.7, 0.9, 1.0]},\n",
       "             refit=&#x27;r2&#x27;,\n",
       "             scoring={&#x27;neg_mae&#x27;: &#x27;neg_mean_absolute_error&#x27;, &#x27;r2&#x27;: &#x27;r2&#x27;},\n",
       "             verbose=1)</pre><b>In a Jupyter environment, please rerun this cell to show the HTML representation or trust the notebook. <br />On GitHub, the HTML representation is unable to render, please try loading this page with nbviewer.org.</b></div><div class=\"sk-container\" hidden><div class=\"sk-item sk-dashed-wrapped\"><div class=\"sk-label-container\"><div class=\"sk-label sk-toggleable\"><input class=\"sk-toggleable__control sk-hidden--visually\" id=\"sk-estimator-id-1\" type=\"checkbox\" ><label for=\"sk-estimator-id-1\" class=\"sk-toggleable__label sk-toggleable__label-arrow\">GridSearchCV</label><div class=\"sk-toggleable__content\"><pre>GridSearchCV(cv=KFold(n_splits=5, random_state=42, shuffle=True),\n",
       "             estimator=XGBRegressor(base_score=None, booster=None,\n",
       "                                    callbacks=None, colsample_bylevel=None,\n",
       "                                    colsample_bynode=None,\n",
       "                                    colsample_bytree=None, device=None,\n",
       "                                    early_stopping_rounds=None,\n",
       "                                    enable_categorical=False, eval_metric=None,\n",
       "                                    feature_types=None, gamma=None,\n",
       "                                    grow_policy=None, importance_type=None,\n",
       "                                    inte...\n",
       "                                    n_jobs=-1, num_parallel_tree=None,\n",
       "                                    random_state=42, ...),\n",
       "             n_jobs=-1,\n",
       "             param_grid={&#x27;colsample_bytree&#x27;: [0.7, 0.9, 1.0],\n",
       "                         &#x27;learning_rate&#x27;: [0.03, 0.05, 0.1],\n",
       "                         &#x27;max_depth&#x27;: [3, 5, 7], &#x27;min_child_weight&#x27;: [1, 3, 5],\n",
       "                         &#x27;n_estimators&#x27;: [200, 400, 800],\n",
       "                         &#x27;reg_alpha&#x27;: [0.0, 0.001, 0.01],\n",
       "                         &#x27;reg_lambda&#x27;: [1.0, 5.0, 10.0],\n",
       "                         &#x27;subsample&#x27;: [0.7, 0.9, 1.0]},\n",
       "             refit=&#x27;r2&#x27;,\n",
       "             scoring={&#x27;neg_mae&#x27;: &#x27;neg_mean_absolute_error&#x27;, &#x27;r2&#x27;: &#x27;r2&#x27;},\n",
       "             verbose=1)</pre></div></div></div><div class=\"sk-parallel\"><div class=\"sk-parallel-item\"><div class=\"sk-item\"><div class=\"sk-label-container\"><div class=\"sk-label sk-toggleable\"><input class=\"sk-toggleable__control sk-hidden--visually\" id=\"sk-estimator-id-2\" type=\"checkbox\" ><label for=\"sk-estimator-id-2\" class=\"sk-toggleable__label sk-toggleable__label-arrow\">estimator: XGBRegressor</label><div class=\"sk-toggleable__content\"><pre>XGBRegressor(base_score=None, booster=None, callbacks=None,\n",
       "             colsample_bylevel=None, colsample_bynode=None,\n",
       "             colsample_bytree=None, device=None, early_stopping_rounds=None,\n",
       "             enable_categorical=False, eval_metric=None, feature_types=None,\n",
       "             gamma=None, grow_policy=None, importance_type=None,\n",
       "             interaction_constraints=None, learning_rate=None, max_bin=None,\n",
       "             max_cat_threshold=None, max_cat_to_onehot=None,\n",
       "             max_delta_step=None, max_depth=None, max_leaves=None,\n",
       "             min_child_weight=None, missing=nan, monotone_constraints=None,\n",
       "             multi_strategy=None, n_estimators=None, n_jobs=-1,\n",
       "             num_parallel_tree=None, random_state=42, ...)</pre></div></div></div><div class=\"sk-serial\"><div class=\"sk-item\"><div class=\"sk-estimator sk-toggleable\"><input class=\"sk-toggleable__control sk-hidden--visually\" id=\"sk-estimator-id-3\" type=\"checkbox\" ><label for=\"sk-estimator-id-3\" class=\"sk-toggleable__label sk-toggleable__label-arrow\">XGBRegressor</label><div class=\"sk-toggleable__content\"><pre>XGBRegressor(base_score=None, booster=None, callbacks=None,\n",
       "             colsample_bylevel=None, colsample_bynode=None,\n",
       "             colsample_bytree=None, device=None, early_stopping_rounds=None,\n",
       "             enable_categorical=False, eval_metric=None, feature_types=None,\n",
       "             gamma=None, grow_policy=None, importance_type=None,\n",
       "             interaction_constraints=None, learning_rate=None, max_bin=None,\n",
       "             max_cat_threshold=None, max_cat_to_onehot=None,\n",
       "             max_delta_step=None, max_depth=None, max_leaves=None,\n",
       "             min_child_weight=None, missing=nan, monotone_constraints=None,\n",
       "             multi_strategy=None, n_estimators=None, n_jobs=-1,\n",
       "             num_parallel_tree=None, random_state=42, ...)</pre></div></div></div></div></div></div></div></div></div></div>"
      ],
      "text/plain": [
       "GridSearchCV(cv=KFold(n_splits=5, random_state=42, shuffle=True),\n",
       "             estimator=XGBRegressor(base_score=None, booster=None,\n",
       "                                    callbacks=None, colsample_bylevel=None,\n",
       "                                    colsample_bynode=None,\n",
       "                                    colsample_bytree=None, device=None,\n",
       "                                    early_stopping_rounds=None,\n",
       "                                    enable_categorical=False, eval_metric=None,\n",
       "                                    feature_types=None, gamma=None,\n",
       "                                    grow_policy=None, importance_type=None,\n",
       "                                    inte...\n",
       "                                    n_jobs=-1, num_parallel_tree=None,\n",
       "                                    random_state=42, ...),\n",
       "             n_jobs=-1,\n",
       "             param_grid={'colsample_bytree': [0.7, 0.9, 1.0],\n",
       "                         'learning_rate': [0.03, 0.05, 0.1],\n",
       "                         'max_depth': [3, 5, 7], 'min_child_weight': [1, 3, 5],\n",
       "                         'n_estimators': [200, 400, 800],\n",
       "                         'reg_alpha': [0.0, 0.001, 0.01],\n",
       "                         'reg_lambda': [1.0, 5.0, 10.0],\n",
       "                         'subsample': [0.7, 0.9, 1.0]},\n",
       "             refit='r2',\n",
       "             scoring={'neg_mae': 'neg_mean_absolute_error', 'r2': 'r2'},\n",
       "             verbose=1)"
      ]
     },
     "execution_count": 27,
     "metadata": {},
     "output_type": "execute_result"
    }
   ],
   "source": [
    "# Cell 4: parameter grid and GridSearchCV\n",
    "# 一个“中等规模”的搜索网格（运行速度 vs 效果平衡）\n",
    "param_grid = {\n",
    "    \"n_estimators\":     [200, 400, 800],\n",
    "    \"max_depth\":        [3, 5, 7],\n",
    "    \"learning_rate\":    [0.03, 0.05, 0.1],\n",
    "    \"subsample\":        [0.7, 0.9, 1.0],\n",
    "    \"colsample_bytree\": [0.7, 0.9, 1.0],\n",
    "    \"min_child_weight\": [1, 3, 5],\n",
    "    \"reg_alpha\":        [0.0, 0.001, 0.01],\n",
    "    \"reg_lambda\":       [1.0, 5.0, 10.0],\n",
    "}\n",
    "\n",
    "# 可选更大范围（性能足够时开启）\n",
    "# param_grid[\"n_estimators\"] = [400, 800, 1200]\n",
    "# param_grid[\"max_depth\"] = [3, 5, 7, 9]\n",
    "# param_grid[\"learning_rate\"] = [0.02, 0.05, 0.1]\n",
    "# param_grid[\"subsample\"] = [0.6, 0.8, 1.0]\n",
    "# param_grid[\"colsample_bytree\"] = [0.6, 0.8, 1.0]\n",
    "\n",
    "xgb = XGBRegressor(\n",
    "    objective=\"reg:squarederror\",\n",
    "    random_state=42,\n",
    "    tree_method=\"hist\",   # GPU可用时用 \"gpu_hist\"\n",
    "    n_jobs=-1\n",
    ")\n",
    "\n",
    "# 多指标；以 R^2 作为最终 refit\n",
    "cv = KFold(n_splits=5, shuffle=True, random_state=42)\n",
    "search = GridSearchCV(\n",
    "    estimator=xgb,\n",
    "    param_grid=param_grid,\n",
    "    scoring={\"r2\": \"r2\", \"neg_mae\": \"neg_mean_absolute_error\"},\n",
    "    refit=\"r2\",\n",
    "    cv=cv,\n",
    "    verbose=1,\n",
    "    n_jobs=-1,\n",
    ")\n",
    "\n",
    "search\n"
   ]
  },
  {
   "cell_type": "code",
   "execution_count": 28,
   "id": "4c6fd36a",
   "metadata": {},
   "outputs": [
    {
     "name": "stdout",
     "output_type": "stream",
     "text": [
      "Fitting 5 folds for each of 6561 candidates, totalling 32805 fits\n",
      "Best R^2 (cv): 0.6536045831802713\n",
      "Best params: {'colsample_bytree': 0.7, 'learning_rate': 0.03, 'max_depth': 5, 'min_child_weight': 5, 'n_estimators': 200, 'reg_alpha': 0.001, 'reg_lambda': 1.0, 'subsample': 1.0}\n"
     ]
    }
   ],
   "source": [
    "# Cell 5: run search\n",
    "search.fit(X_train, y_train)\n",
    "\n",
    "print(\"Best R^2 (cv):\", search.best_score_)\n",
    "print(\"Best params:\", search.best_params_)\n"
   ]
  },
  {
   "cell_type": "code",
   "execution_count": 29,
   "id": "9fd88cd2",
   "metadata": {},
   "outputs": [
    {
     "name": "stdout",
     "output_type": "stream",
     "text": [
      "Test R^2=0.747, RMSE=0.054, MAE=0.044\n"
     ]
    }
   ],
   "source": [
    "# Cell 6: evaluate on test\n",
    "best_model = search.best_estimator_\n",
    "\n",
    "y_pred = best_model.predict(X_test)\n",
    "r2  = r2_score(y_test, y_pred)\n",
    "rmse = mean_squared_error(y_test, y_pred, squared=False)\n",
    "mae  = mean_absolute_error(y_test, y_pred)\n",
    "\n",
    "print(f\"Test R^2={r2:.3f}, RMSE={rmse:.3f}, MAE={mae:.3f}\")\n"
   ]
  },
  {
   "cell_type": "code",
   "execution_count": 30,
   "id": "d5345f6a",
   "metadata": {},
   "outputs": [
    {
     "data": {
      "image/png": "[encoded data removed]",
      "text/plain": [
       "<Figure size 600x600 with 1 Axes>"
      ]
     },
     "metadata": {},
     "output_type": "display_data"
    },
    {
     "data": {
      "image/png": "[encoded data removed]",
      "text/plain": [
       "<Figure size 600x400 with 1 Axes>"
      ]
     },
     "metadata": {},
     "output_type": "display_data"
    }
   ],
   "source": [
    "# Cell 7: plots\n",
    "plt.figure(figsize=(6,6))\n",
    "plt.scatter(y_test, y_pred, s=28)\n",
    "mn, mx = min(y_test.min(), y_pred.min()), max(y_test.max(), y_pred.max())\n",
    "xs = np.linspace(mn, mx, 100)\n",
    "plt.plot(xs, xs, linewidth=2)\n",
    "plt.xlabel(\"Actual\")\n",
    "plt.ylabel(\"Predicted\")\n",
    "plt.title(f\"Predicted vs Actual (XGB)\\nR²={r2:.3f}, RMSE={rmse:.3f}, MAE={mae:.3f}\")\n",
    "plt.tight_layout()\n",
    "plt.show()\n",
    "\n",
    "plt.figure(figsize=(6,4))\n",
    "res = y_pred - y_test\n",
    "plt.scatter(y_pred, res, s=20)\n",
    "plt.axhline(0, linestyle=\"--\")\n",
    "plt.xlabel(\"Predicted\")\n",
    "plt.ylabel(\"Residual\")\n",
    "plt.title(\"Residuals vs Pred\")\n",
    "plt.tight_layout()\n",
    "plt.show()\n"
   ]
  },
  {
   "cell_type": "markdown",
   "id": "e23a73d2",
   "metadata": {},
   "source": [
    "继续优化Optuna 自动调参 + 特征交互生成"
   ]
  },
  {
   "cell_type": "code",
   "execution_count": 51,
   "id": "daff0180",
   "metadata": {},
   "outputs": [
    {
     "name": "stdout",
     "output_type": "stream",
     "text": [
      "Loaded: C:/Users/MSc_SEIoT_1/MAPF_G2RL-main - train/train_gray3d-Copy-FDA.csv\n",
      "Shape: (122, 19)\n",
      "Columns: ['algo', 'stage_idx', 'config_id', 'config_json', 'size', 'num_agents', 'density', 'obs_radius', 'max_episode_steps', 'density_actual', 'LDD', 'BN', 'MC', 'DLR', 'success_rate', 'grid_hash', 'episodes_per_stage', 'FRA', 'FPA']\n",
      "Using features: ['size', 'num_agents', 'density', 'density_actual', 'LDD', 'BN', 'MC', 'DLR', 'FRA', 'FPA']\n"
     ]
    }
   ],
   "source": [
    "# 改成你的 CSV 路径 & 输出目录\n",
    "# 如果你的环境里已经装了 optuna 和 xgboost，可以跳过 pip 安装行\n",
    "# !pip install -U optuna xgboost scikit-learn matplotlib\n",
    "\n",
    "import os\n",
    "import json\n",
    "import warnings\n",
    "warnings.filterwarnings(\"ignore\")\n",
    "\n",
    "import numpy as np\n",
    "import pandas as pd\n",
    "import matplotlib.pyplot as plt\n",
    "\n",
    "from sklearn.model_selection import train_test_split, KFold\n",
    "from sklearn.metrics import r2_score, mean_squared_error, mean_absolute_error\n",
    "\n",
    "import optuna\n",
    "from optuna.integration import XGBoostPruningCallback\n",
    "from optuna.samplers import TPESampler\n",
    "\n",
    "from xgboost import XGBRegressor\n",
    "\n",
    "CSV_PATH = r\"C:/Users/MSc_SEIoT_1/MAPF_G2RL-main - train/train_gray3d-Copy-FDA.csv\"\n",
    "OUTDIR   = r\"C:/Users/MSc_SEIoT_1/MAPF_G2RL-main - train/pic_optuna\"\n",
    "os.makedirs(OUTDIR, exist_ok=True)\n",
    "\n",
    "df = pd.read_csv(CSV_PATH)\n",
    "print(\"Loaded:\", CSV_PATH)\n",
    "print(\"Shape:\", df.shape)\n",
    "print(\"Columns:\", list(df.columns))\n",
    "\n",
    "# 目标列（按你的数据改：成功率/复杂度等）\n",
    "TARGET_COL = \"success_rate\"  # 或 \"success_rate\"\n",
    "if TARGET_COL not in df.columns:\n",
    "    raise ValueError(f\"找不到目标列 {TARGET_COL}，请检查 CSV。\")\n",
    "\n",
    "# 基础特征列（来自你之前的公式；按实际 CSV 列名调整）\n",
    "BASE_FEATURES = [\n",
    "    \"size\",\"num_agents\",\"density\",\"density_actual\",\n",
    "    \"LDD\",\"BN\",\"MC\",\"DLR\",\n",
    "    # 可选：如果你 CSV 已计算了 FPA/FRA 就加上\n",
    "    *([c for c in [\"FRA\",\"FPA\"] if c in df.columns])\n",
    "]\n",
    "\n",
    "FEATURES = [c for c in BASE_FEATURES if c in df.columns]\n",
    "if not FEATURES:\n",
    "    raise ValueError(\"FEATURES 为空，请检查列名。\")\n",
    "print(\"Using features:\", FEATURES)\n",
    "\n",
    "# 丢 NA\n",
    "df = df.dropna(subset=[TARGET_COL] + FEATURES).reset_index(drop=True)\n",
    "\n",
    "y = df[TARGET_COL].astype(float).values\n",
    "X_base = df[FEATURES].copy()\n"
   ]
  },
  {
   "cell_type": "code",
   "execution_count": 52,
   "id": "431e6d8c",
   "metadata": {},
   "outputs": [
    {
     "name": "stdout",
     "output_type": "stream",
     "text": [
      "Base dim: (122, 10)  -> With interactions: (122, 165)\n"
     ]
    }
   ],
   "source": [
    "def build_interactions(df_in: pd.DataFrame, eps: float = 1e-6) -> pd.DataFrame:\n",
    "    df = df_in.copy()\n",
    "\n",
    "    cols = df.columns.tolist()\n",
    "\n",
    "    # 一次项的稳定变换\n",
    "    for c in cols:\n",
    "        if (df[c] > 0).all():              # 只对正值做对数\n",
    "            df[f\"log_{c}\"] = np.log(df[c] + eps)\n",
    "        df[f\"sqr_{c}\"] = df[c] ** 2\n",
    "\n",
    "    # 两两乘积\n",
    "    for i in range(len(cols)):\n",
    "        for j in range(i+1, len(cols)):\n",
    "            ci, cj = cols[i], cols[j]\n",
    "            df[f\"{ci}*{cj}\"] = df[ci] * df[cj]\n",
    "\n",
    "    # 有意义的比值（只对“规模/人数/密度系”做）\n",
    "    ratio_candidates = [c for c in cols if any(k in c for k in [\"size\",\"agents\",\"density\",\"LDD\",\"BN\",\"MC\",\"DLR\",\"FRA\",\"FPA\"])]\n",
    "    for i in range(len(ratio_candidates)):\n",
    "        for j in range(len(ratio_candidates)):\n",
    "            if i == j: \n",
    "                continue\n",
    "            ci, cj = ratio_candidates[i], ratio_candidates[j]\n",
    "            denom = df[cj].replace(0, np.nan).fillna(eps)\n",
    "            df[f\"{ci}_over_{cj}\"] = df[ci] / denom\n",
    "\n",
    "    return df\n",
    "\n",
    "X_full = build_interactions(X_base)\n",
    "print(\"Base dim:\", X_base.shape, \" -> With interactions:\", X_full.shape)\n",
    "\n",
    "# 为了可控，你也可以先只用一部分交互（例如选前 N 列强相关的）\n",
    "X = X_full.copy()\n"
   ]
  },
  {
   "cell_type": "code",
   "execution_count": 53,
   "id": "4ce05c91",
   "metadata": {},
   "outputs": [
    {
     "name": "stdout",
     "output_type": "stream",
     "text": [
      "Train: (97, 165) Test: (25, 165)\n"
     ]
    }
   ],
   "source": [
    "RANDOM_SEED = 42\n",
    "\n",
    "X_train, X_test, y_train, y_test = train_test_split(\n",
    "    X.values, y, test_size=0.2, random_state=RANDOM_SEED\n",
    ")\n",
    "\n",
    "print(\"Train:\", X_train.shape, \"Test:\", X_test.shape)\n"
   ]
  },
  {
   "cell_type": "code",
   "execution_count": 54,
   "id": "6c04e977",
   "metadata": {},
   "outputs": [],
   "source": [
    "def objective(trial):\n",
    "    params = {\n",
    "        \"n_estimators\": trial.suggest_int(\"n_estimators\", 300, 2000),\n",
    "        \"learning_rate\": trial.suggest_float(\"learning_rate\", 1e-3, 0.3, log=True),\n",
    "        \"max_depth\": trial.suggest_int(\"max_depth\", 3, 12),\n",
    "        \"min_child_weight\": trial.suggest_float(\"min_child_weight\", 1e-2, 20.0, log=True),\n",
    "        \"subsample\": trial.suggest_float(\"subsample\", 0.5, 1.0),\n",
    "        \"colsample_bytree\": trial.suggest_float(\"colsample_bytree\", 0.5, 1.0),\n",
    "        \"gamma\": trial.suggest_float(\"gamma\", 0.0, 10.0),\n",
    "        \"reg_alpha\": trial.suggest_float(\"reg_alpha\", 1e-8, 10.0, log=True),\n",
    "        \"reg_lambda\": trial.suggest_float(\"reg_lambda\", 1e-8, 10.0, log=True),\n",
    "        \"random_state\": RANDOM_SEED,\n",
    "        \"tree_method\": \"hist\",\n",
    "        \"n_jobs\": max(1, os.cpu_count()-1),\n",
    "        \"eval_metric\": \"rmse\",   # 评估指标放到**参数**里\n",
    "    }\n",
    "\n",
    "    kf = KFold(n_splits=5, shuffle=True, random_state=RANDOM_SEED)\n",
    "    rmses = []\n",
    "\n",
    "    for tr_idx, va_idx in kf.split(X_train):\n",
    "        X_tr, X_va = X_train[tr_idx], X_train[va_idx]\n",
    "        y_tr, y_va = y_train[tr_idx], y_train[va_idx]\n",
    "\n",
    "        model = XGBRegressor(**params)\n",
    "        # 老版本 fit 不能带 early_stopping_rounds/callbacks\n",
    "        model.fit(X_tr, y_tr, eval_set=[(X_va, y_va)], verbose=False)\n",
    "\n",
    "        pred = model.predict(X_va)\n",
    "        rmse = mean_squared_error(y_va, pred, squared=False)\n",
    "        rmses.append(rmse)\n",
    "\n",
    "    return float(np.mean(rmses))\n"
   ]
  },
  {
   "cell_type": "code",
   "execution_count": null,
   "id": "19dde16c",
   "metadata": {},
   "outputs": [
    {
     "name": "stderr",
     "output_type": "stream",
     "text": [
      "[I 2025-08-26 15:19:00,832] A new study created in memory with name: no-name-ec07cddf-4686-45eb-9fa2-e82533f47b2c\n",
      "Best trial: 0. Best value: 0.103334:   1%|▏         | 1/80 [00:01<01:43,  1.31s/it]"
     ]
    },
    {
     "name": "stdout",
     "output_type": "stream",
     "text": [
      "[I 2025-08-26 15:19:02,139] Trial 0 finished with value: 0.10333396506896078 and parameters: {'n_estimators': 937, 'learning_rate': 0.22648248189516848, 'max_depth': 10, 'min_child_weight': 0.9466503798478175, 'subsample': 0.5780093202212182, 'colsample_bytree': 0.5779972601681014, 'gamma': 0.5808361216819946, 'reg_alpha': 0.6245760287469893, 'reg_lambda': 0.002570603566117598}. Best is trial 0 with value: 0.10333396506896078.\n"
     ]
    },
    {
     "name": "stderr",
     "output_type": "stream",
     "text": [
      "Best trial: 1. Best value: 0.103225:   2%|▎         | 2/80 [00:03<02:06,  1.62s/it]"
     ]
    },
    {
     "name": "stdout",
     "output_type": "stream",
     "text": [
      "[I 2025-08-26 15:19:03,983] Trial 1 finished with value: 0.10322542200658362 and parameters: {'n_estimators': 1504, 'learning_rate': 0.001124579825911934, 'max_depth': 12, 'min_child_weight': 5.596520861285641, 'subsample': 0.6061695553391381, 'colsample_bytree': 0.5909124836035503, 'gamma': 1.8340450985343382, 'reg_alpha': 5.472429642032198e-06, 'reg_lambda': 0.00052821153945323}. Best is trial 1 with value: 0.10322542200658362.\n"
     ]
    },
    {
     "name": "stderr",
     "output_type": "stream",
     "text": [
      "Best trial: 1. Best value: 0.103225:   4%|▍         | 3/80 [00:04<01:57,  1.52s/it]"
     ]
    },
    {
     "name": "stdout",
     "output_type": "stream",
     "text": [
      "[I 2025-08-26 15:19:05,382] Trial 2 finished with value: 0.10326398766503835 and parameters: {'n_estimators': 1034, 'learning_rate': 0.005265139631677754, 'max_depth': 9, 'min_child_weight': 0.028871770589042903, 'subsample': 0.6460723242676091, 'colsample_bytree': 0.6831809216468459, 'gamma': 4.56069984217036, 'reg_alpha': 0.1165691561324743, 'reg_lambda': 6.267062696005991e-07}. Best is trial 1 with value: 0.10322542200658362.\n"
     ]
    },
    {
     "name": "stderr",
     "output_type": "stream",
     "text": [
      "Best trial: 3. Best value: 0.103157:   5%|▌         | 4/80 [00:06<01:57,  1.55s/it]"
     ]
    },
    {
     "name": "stdout",
     "output_type": "stream",
     "text": [
      "[I 2025-08-26 15:19:06,975] Trial 3 finished with value: 0.1031565138117608 and parameters: {'n_estimators': 1174, 'learning_rate': 0.029341527565000736, 'max_depth': 3, 'min_child_weight': 1.0128002032729382, 'subsample': 0.5852620618436457, 'colsample_bytree': 0.5325257964926398, 'gamma': 9.488855372533333, 'reg_alpha': 4.905556676028774, 'reg_lambda': 0.18861495878553936}. Best is trial 3 with value: 0.1031565138117608.\n"
     ]
    },
    {
     "name": "stderr",
     "output_type": "stream",
     "text": [
      "Best trial: 3. Best value: 0.103157:   6%|▋         | 5/80 [00:07<01:45,  1.41s/it]"
     ]
    },
    {
     "name": "stdout",
     "output_type": "stream",
     "text": [
      "[I 2025-08-26 15:19:08,130] Trial 4 finished with value: 0.1031566837480655 and parameters: {'n_estimators': 818, 'learning_rate': 0.0017456037635797405, 'max_depth': 9, 'min_child_weight': 0.28376353418686184, 'subsample': 0.5610191174223894, 'colsample_bytree': 0.7475884550556351, 'gamma': 0.34388521115218396, 'reg_alpha': 1.527156759251193, 'reg_lambda': 2.133142332373004e-06}. Best is trial 3 with value: 0.1031565138117608.\n"
     ]
    },
    {
     "name": "stderr",
     "output_type": "stream",
     "text": [
      "Best trial: 3. Best value: 0.103157:   8%|▊         | 6/80 [00:09<01:52,  1.52s/it]"
     ]
    },
    {
     "name": "stdout",
     "output_type": "stream",
     "text": [
      "[I 2025-08-26 15:19:09,858] Trial 5 finished with value: 0.1031565138117608 and parameters: {'n_estimators': 1426, 'learning_rate': 0.005917607170144194, 'max_depth': 8, 'min_child_weight': 0.6378330678120924, 'subsample': 0.5924272277627636, 'colsample_bytree': 0.9847923138822793, 'gamma': 7.7513282336111455, 'reg_alpha': 2.854239907497756, 'reg_lambda': 1.1309571585271483}. Best is trial 3 with value: 0.1031565138117608.\n"
     ]
    },
    {
     "name": "stderr",
     "output_type": "stream",
     "text": [
      "Best trial: 6. Best value: 0.1031:   9%|▉         | 7/80 [00:10<01:52,  1.55s/it]  "
     ]
    },
    {
     "name": "stdout",
     "output_type": "stream",
     "text": [
      "[I 2025-08-26 15:19:11,471] Trial 6 finished with value: 0.1030997061677533 and parameters: {'n_estimators': 1317, 'learning_rate': 0.19212959255386391, 'max_depth': 3, 'min_child_weight': 0.04435527819593249, 'subsample': 0.522613644455269, 'colsample_bytree': 0.6626651653816322, 'gamma': 3.8867728968948203, 'reg_alpha': 2.7678419414850017e-06, 'reg_lambda': 0.28749982347407854}. Best is trial 6 with value: 0.1030997061677533.\n"
     ]
    },
    {
     "name": "stderr",
     "output_type": "stream",
     "text": [
      "Best trial: 6. Best value: 0.1031:  10%|█         | 8/80 [00:11<01:42,  1.42s/it]"
     ]
    },
    {
     "name": "stdout",
     "output_type": "stream",
     "text": [
      "[I 2025-08-26 15:19:12,624] Trial 7 finished with value: 0.10318259027433987 and parameters: {'n_estimators': 906, 'learning_rate': 0.0049648810171066555, 'max_depth': 8, 'min_child_weight': 0.029187378749091768, 'subsample': 0.9010984903770198, 'colsample_bytree': 0.5372753218398854, 'gamma': 9.868869366005173, 'reg_alpha': 0.08916674715636537, 'reg_lambda': 6.143857495033091e-07}. Best is trial 6 with value: 0.1030997061677533.\n"
     ]
    },
    {
     "name": "stderr",
     "output_type": "stream",
     "text": [
      "Best trial: 6. Best value: 0.1031:  11%|█▏        | 9/80 [00:12<01:24,  1.18s/it]"
     ]
    },
    {
     "name": "stdout",
     "output_type": "stream",
     "text": [
      "[I 2025-08-26 15:19:13,284] Trial 8 finished with value: 0.10321164448443196 and parameters: {'n_estimators': 309, 'learning_rate': 0.10471209213501693, 'max_depth': 10, 'min_child_weight': 2.5496145492764652, 'subsample': 0.8856351733429728, 'colsample_bytree': 0.5370223258670452, 'gamma': 3.5846572854427263, 'reg_alpha': 1.1036250149900698e-07, 'reg_lambda': 0.5860448217200517}. Best is trial 6 with value: 0.1030997061677533.\n"
     ]
    },
    {
     "name": "stderr",
     "output_type": "stream",
     "text": [
      "Best trial: 6. Best value: 0.1031:  12%|█▎        | 10/80 [00:14<01:34,  1.35s/it]"
     ]
    },
    {
     "name": "stdout",
     "output_type": "stream",
     "text": [
      "[I 2025-08-26 15:19:15,001] Trial 9 finished with value: 0.10317518158757637 and parameters: {'n_estimators': 1360, 'learning_rate': 0.006601984958164864, 'max_depth': 3, 'min_child_weight': 0.1063070268375106, 'subsample': 0.6625916610133735, 'colsample_bytree': 0.864803089169032, 'gamma': 6.3755747135521315, 'reg_alpha': 0.9658611176861268, 'reg_lambda': 0.0001778010520878397}. Best is trial 6 with value: 0.1030997061677533.\n"
     ]
    },
    {
     "name": "stderr",
     "output_type": "stream",
     "text": [
      "Best trial: 10. Best value: 0.103077:  14%|█▍        | 11/80 [00:16<01:50,  1.60s/it]"
     ]
    },
    {
     "name": "stdout",
     "output_type": "stream",
     "text": [
      "[I 2025-08-26 15:19:17,177] Trial 10 finished with value: 0.10307690086799359 and parameters: {'n_estimators': 1921, 'learning_rate': 0.050904131025638205, 'max_depth': 5, 'min_child_weight': 0.01146285213283717, 'subsample': 0.7828065453407016, 'colsample_bytree': 0.6808837830192477, 'gamma': 2.6768268871237146, 'reg_alpha': 3.404677878190553e-05, 'reg_lambda': 0.010478995733418038}. Best is trial 10 with value: 0.10307690086799359.\n"
     ]
    },
    {
     "name": "stderr",
     "output_type": "stream",
     "text": [
      "Best trial: 10. Best value: 0.103077:  15%|█▌        | 12/80 [00:18<02:02,  1.81s/it]"
     ]
    },
    {
     "name": "stdout",
     "output_type": "stream",
     "text": [
      "[I 2025-08-26 15:19:19,454] Trial 11 finished with value: 0.10336677789839419 and parameters: {'n_estimators': 1995, 'learning_rate': 0.057057365779709164, 'max_depth': 5, 'min_child_weight': 0.01222524788169418, 'subsample': 0.777751009017812, 'colsample_bytree': 0.6865842761751744, 'gamma': 3.072966121168487, 'reg_alpha': 0.00017751672073517406, 'reg_lambda': 0.022891327927378104}. Best is trial 10 with value: 0.10307690086799359.\n"
     ]
    },
    {
     "name": "stderr",
     "output_type": "stream",
     "text": [
      "Best trial: 12. Best value: 0.103068:  16%|█▋        | 13/80 [00:20<02:10,  1.95s/it]"
     ]
    },
    {
     "name": "stdout",
     "output_type": "stream",
     "text": [
      "[I 2025-08-26 15:19:21,722] Trial 12 finished with value: 0.10306772773303534 and parameters: {'n_estimators': 1914, 'learning_rate': 0.24652079948470856, 'max_depth': 5, 'min_child_weight': 0.010551077514356213, 'subsample': 0.7534920033027623, 'colsample_bytree': 0.6766980691634803, 'gamma': 5.396201068027976, 'reg_alpha': 9.477329010827906e-06, 'reg_lambda': 8.49468056736816}. Best is trial 12 with value: 0.10306772773303534.\n"
     ]
    },
    {
     "name": "stderr",
     "output_type": "stream",
     "text": [
      "Best trial: 12. Best value: 0.103068:  18%|█▊        | 14/80 [00:23<02:18,  2.10s/it]"
     ]
    },
    {
     "name": "stdout",
     "output_type": "stream",
     "text": [
      "[I 2025-08-26 15:19:24,184] Trial 13 finished with value: 0.10330313021542248 and parameters: {'n_estimators': 1994, 'learning_rate': 0.045492628928997844, 'max_depth': 6, 'min_child_weight': 0.010141256925967342, 'subsample': 0.7863899280705593, 'colsample_bytree': 0.8171530061395648, 'gamma': 6.2586067187764876, 'reg_alpha': 0.0002976929450255629, 'reg_lambda': 9.721797110060264}. Best is trial 12 with value: 0.10306772773303534.\n"
     ]
    },
    {
     "name": "stderr",
     "output_type": "stream",
     "text": [
      "Best trial: 12. Best value: 0.103068:  19%|█▉        | 15/80 [00:25<02:15,  2.08s/it]"
     ]
    },
    {
     "name": "stdout",
     "output_type": "stream",
     "text": [
      "[I 2025-08-26 15:19:26,218] Trial 14 finished with value: 0.10316037224837511 and parameters: {'n_estimators': 1665, 'learning_rate': 0.016298159000892345, 'max_depth': 6, 'min_child_weight': 19.403584134247282, 'subsample': 0.9966360673361601, 'colsample_bytree': 0.7714969458413368, 'gamma': 5.613155409120305, 'reg_alpha': 0.0044250163723220754, 'reg_lambda': 1.460426142820769e-05}. Best is trial 12 with value: 0.10306772773303534.\n"
     ]
    },
    {
     "name": "stderr",
     "output_type": "stream",
     "text": [
      "Best trial: 12. Best value: 0.103068:  20%|██        | 16/80 [00:27<02:12,  2.08s/it]"
     ]
    },
    {
     "name": "stdout",
     "output_type": "stream",
     "text": [
      "[I 2025-08-26 15:19:28,285] Trial 15 finished with value: 0.10327144983695251 and parameters: {'n_estimators': 1758, 'learning_rate': 0.10139834100839093, 'max_depth': 5, 'min_child_weight': 0.17159776395079, 'subsample': 0.7221709059875654, 'colsample_bytree': 0.6334518760377764, 'gamma': 2.447690087113825, 'reg_alpha': 5.704246908471008e-06, 'reg_lambda': 0.012328522283335436}. Best is trial 12 with value: 0.10306772773303534.\n"
     ]
    },
    {
     "name": "stderr",
     "output_type": "stream",
     "text": [
      "Best trial: 12. Best value: 0.103068:  21%|██▏       | 17/80 [00:29<02:11,  2.09s/it]"
     ]
    },
    {
     "name": "stdout",
     "output_type": "stream",
     "text": [
      "[I 2025-08-26 15:19:30,413] Trial 16 finished with value: 0.10318197702862328 and parameters: {'n_estimators': 1772, 'learning_rate': 0.01856479322169233, 'max_depth': 5, 'min_child_weight': 0.083705333852185, 'subsample': 0.8455361021878398, 'colsample_bytree': 0.7580143193422604, 'gamma': 7.587558126699591, 'reg_alpha': 1.7578071939504844e-08, 'reg_lambda': 1.314053143275926e-08}. Best is trial 12 with value: 0.10306772773303534.\n"
     ]
    },
    {
     "name": "stderr",
     "output_type": "stream",
     "text": [
      "Best trial: 12. Best value: 0.103068:  22%|██▎       | 18/80 [00:30<01:51,  1.79s/it]"
     ]
    },
    {
     "name": "stdout",
     "output_type": "stream",
     "text": [
      "[I 2025-08-26 15:19:31,512] Trial 17 finished with value: 0.10351569535152312 and parameters: {'n_estimators': 662, 'learning_rate': 0.26065073903701397, 'max_depth': 6, 'min_child_weight': 0.022604720268446843, 'subsample': 0.7202940772257258, 'colsample_bytree': 0.8979387218009911, 'gamma': 1.6405553597722995, 'reg_alpha': 0.0023379093856428553, 'reg_lambda': 9.0318405522529}. Best is trial 12 with value: 0.10306772773303534.\n"
     ]
    },
    {
     "name": "stderr",
     "output_type": "stream",
     "text": [
      "Best trial: 12. Best value: 0.103068:  24%|██▍       | 19/80 [00:32<01:57,  1.92s/it]"
     ]
    },
    {
     "name": "stdout",
     "output_type": "stream",
     "text": [
      "[I 2025-08-26 15:19:33,722] Trial 18 finished with value: 0.10317484566127984 and parameters: {'n_estimators': 1862, 'learning_rate': 0.09363990166023256, 'max_depth': 4, 'min_child_weight': 0.010029711182248218, 'subsample': 0.823708690300315, 'colsample_bytree': 0.7145021417578735, 'gamma': 5.041669423281919, 'reg_alpha': 1.095043770611387e-06, 'reg_lambda': 0.03090896213301132}. Best is trial 12 with value: 0.10306772773303534.\n"
     ]
    },
    {
     "name": "stderr",
     "output_type": "stream",
     "text": [
      "Best trial: 12. Best value: 0.103068:  25%|██▌       | 20/80 [00:34<01:57,  1.96s/it]"
     ]
    },
    {
     "name": "stdout",
     "output_type": "stream",
     "text": [
      "[I 2025-08-26 15:19:35,763] Trial 19 finished with value: 0.10317735748521537 and parameters: {'n_estimators': 1611, 'learning_rate': 0.053854574233856624, 'max_depth': 7, 'min_child_weight': 0.06626790544855915, 'subsample': 0.9505963555343007, 'colsample_bytree': 0.6182798099158087, 'gamma': 7.380466548203571, 'reg_alpha': 4.6751540837227745e-05, 'reg_lambda': 8.041763851258932e-05}. Best is trial 12 with value: 0.10306772773303534.\n"
     ]
    },
    {
     "name": "stderr",
     "output_type": "stream",
     "text": [
      "Best trial: 12. Best value: 0.103068:  26%|██▋       | 21/80 [00:36<01:54,  1.95s/it]"
     ]
    },
    {
     "name": "stdout",
     "output_type": "stream",
     "text": [
      "[I 2025-08-26 15:19:37,686] Trial 20 finished with value: 0.10315611905137453 and parameters: {'n_estimators': 1573, 'learning_rate': 0.01494331988579863, 'max_depth': 4, 'min_child_weight': 0.18047173100556918, 'subsample': 0.6839401035402806, 'colsample_bytree': 0.8199212859905153, 'gamma': 4.2854500661749135, 'reg_alpha': 1.696306689177103e-07, 'reg_lambda': 0.0031861576745405634}. Best is trial 12 with value: 0.10306772773303534.\n"
     ]
    },
    {
     "name": "stderr",
     "output_type": "stream",
     "text": [
      "Best trial: 12. Best value: 0.103068:  28%|██▊       | 22/80 [00:38<01:49,  1.90s/it]"
     ]
    },
    {
     "name": "stdout",
     "output_type": "stream",
     "text": [
      "[I 2025-08-26 15:19:39,463] Trial 21 finished with value: 0.10326933918435646 and parameters: {'n_estimators': 1354, 'learning_rate': 0.1939674528643577, 'max_depth': 4, 'min_child_weight': 0.0474115252152814, 'subsample': 0.5108524737177826, 'colsample_bytree': 0.65477426123904, 'gamma': 3.8260309960869936, 'reg_alpha': 1.9367137278635087e-05, 'reg_lambda': 0.15806856659759838}. Best is trial 12 with value: 0.10306772773303534.\n"
     ]
    },
    {
     "name": "stderr",
     "output_type": "stream",
     "text": [
      "Best trial: 12. Best value: 0.103068:  29%|██▉       | 23/80 [00:40<01:42,  1.79s/it]"
     ]
    },
    {
     "name": "stdout",
     "output_type": "stream",
     "text": [
      "[I 2025-08-26 15:19:41,009] Trial 22 finished with value: 0.10310652908141163 and parameters: {'n_estimators': 1223, 'learning_rate': 0.11604701717306863, 'max_depth': 3, 'min_child_weight': 0.020600850299988024, 'subsample': 0.7511152526230597, 'colsample_bytree': 0.6960961834745816, 'gamma': 2.8668812550695026, 'reg_alpha': 9.534427832226265e-07, 'reg_lambda': 1.5636481824345791}. Best is trial 12 with value: 0.10306772773303534.\n"
     ]
    },
    {
     "name": "stderr",
     "output_type": "stream",
     "text": [
      "Best trial: 23. Best value: 0.102976:  30%|███       | 24/80 [00:42<01:47,  1.92s/it]"
     ]
    },
    {
     "name": "stdout",
     "output_type": "stream",
     "text": [
      "[I 2025-08-26 15:19:43,219] Trial 23 finished with value: 0.10297571958706642 and parameters: {'n_estimators': 1869, 'learning_rate': 0.15978614310222386, 'max_depth': 4, 'min_child_weight': 0.018184053975086444, 'subsample': 0.8155246732837549, 'colsample_bytree': 0.6549143598208998, 'gamma': 1.5305024091199801, 'reg_alpha': 3.3177641245823535e-05, 'reg_lambda': 0.10841846988735351}. Best is trial 23 with value: 0.10297571958706642.\n"
     ]
    },
    {
     "name": "stderr",
     "output_type": "stream",
     "text": [
      "Best trial: 24. Best value: 0.102969:  31%|███▏      | 25/80 [00:44<01:51,  2.03s/it]"
     ]
    },
    {
     "name": "stdout",
     "output_type": "stream",
     "text": [
      "[I 2025-08-26 15:19:45,510] Trial 24 finished with value: 0.10296916645858076 and parameters: {'n_estimators': 1867, 'learning_rate': 0.2989980861434751, 'max_depth': 7, 'min_child_weight': 0.01614116844162383, 'subsample': 0.8267526302023713, 'colsample_bytree': 0.6009465449424153, 'gamma': 1.0956691587905596, 'reg_alpha': 0.0019294110565580363, 'reg_lambda': 0.053310515666006204}. Best is trial 24 with value: 0.10296916645858076.\n"
     ]
    },
    {
     "name": "stderr",
     "output_type": "stream",
     "text": [
      "Best trial: 24. Best value: 0.102969:  32%|███▎      | 26/80 [00:46<01:52,  2.09s/it]"
     ]
    },
    {
     "name": "stdout",
     "output_type": "stream",
     "text": [
      "[I 2025-08-26 15:19:47,746] Trial 25 finished with value: 0.1032410147293135 and parameters: {'n_estimators': 1770, 'learning_rate': 0.15467931744920818, 'max_depth': 7, 'min_child_weight': 0.019863159570212754, 'subsample': 0.8387343770898575, 'colsample_bytree': 0.501106650806332, 'gamma': 1.237142642445602, 'reg_alpha': 0.003079612785585796, 'reg_lambda': 3.168588731499314}. Best is trial 24 with value: 0.10296916645858076.\n"
     ]
    },
    {
     "name": "stderr",
     "output_type": "stream",
     "text": [
      "Best trial: 26. Best value: 0.0665043:  34%|███▍      | 27/80 [00:49<01:52,  2.12s/it]"
     ]
    },
    {
     "name": "stdout",
     "output_type": "stream",
     "text": [
      "[I 2025-08-26 15:19:49,926] Trial 26 finished with value: 0.06650425472031166 and parameters: {'n_estimators': 1834, 'learning_rate': 0.26685339978127787, 'max_depth': 6, 'min_child_weight': 0.046982962192014116, 'subsample': 0.8858087180182612, 'colsample_bytree': 0.5953974742674374, 'gamma': 0.05896036555909512, 'reg_alpha': 0.000693635726646099, 'reg_lambda': 0.06438402356646762}. Best is trial 26 with value: 0.06650425472031166.\n"
     ]
    },
    {
     "name": "stderr",
     "output_type": "stream",
     "text": [
      "Best trial: 26. Best value: 0.0665043:  35%|███▌      | 28/80 [00:51<01:50,  2.12s/it]"
     ]
    },
    {
     "name": "stdout",
     "output_type": "stream",
     "text": [
      "[I 2025-08-26 15:19:52,068] Trial 27 finished with value: 0.07675559476295181 and parameters: {'n_estimators': 1685, 'learning_rate': 0.07182129855313546, 'max_depth': 7, 'min_child_weight': 0.04600454718031053, 'subsample': 0.8975922067832012, 'colsample_bytree': 0.5826486579523104, 'gamma': 0.15504645889242463, 'reg_alpha': 0.025739766786801944, 'reg_lambda': 0.054803365699652835}. Best is trial 26 with value: 0.06650425472031166.\n"
     ]
    },
    {
     "name": "stderr",
     "output_type": "stream",
     "text": [
      "Best trial: 26. Best value: 0.0665043:  36%|███▋      | 29/80 [00:53<01:49,  2.15s/it]"
     ]
    },
    {
     "name": "stdout",
     "output_type": "stream",
     "text": [
      "[I 2025-08-26 15:19:54,277] Trial 28 finished with value: 0.06920306354356923 and parameters: {'n_estimators': 1657, 'learning_rate': 0.28610072616551907, 'max_depth': 7, 'min_child_weight': 0.14830418967576317, 'subsample': 0.8911620362345914, 'colsample_bytree': 0.5878323165272399, 'gamma': 0.12166734471944116, 'reg_alpha': 0.022094810952513966, 'reg_lambda': 0.000962325936114183}. Best is trial 26 with value: 0.06650425472031166.\n"
     ]
    },
    {
     "name": "stderr",
     "output_type": "stream",
     "text": [
      "Best trial: 29. Best value: 0.0656909:  38%|███▊      | 30/80 [00:55<01:46,  2.13s/it]"
     ]
    },
    {
     "name": "stdout",
     "output_type": "stream",
     "text": [
      "[I 2025-08-26 15:19:56,361] Trial 29 finished with value: 0.0656909226782016 and parameters: {'n_estimators': 1700, 'learning_rate': 0.031831258674982835, 'max_depth': 8, 'min_child_weight': 0.13717172539814074, 'subsample': 0.9187433077702704, 'colsample_bytree': 0.5577147121120809, 'gamma': 0.04745003601685885, 'reg_alpha': 0.01976934645632815, 'reg_lambda': 0.0018759378159618327}. Best is trial 29 with value: 0.0656909226782016.\n"
     ]
    },
    {
     "name": "stderr",
     "output_type": "stream",
     "text": [
      "Best trial: 30. Best value: 0.0630246:  39%|███▉      | 31/80 [00:57<01:41,  2.07s/it]"
     ]
    },
    {
     "name": "stdout",
     "output_type": "stream",
     "text": [
      "[I 2025-08-26 15:19:58,304] Trial 30 finished with value: 0.06302460533747589 and parameters: {'n_estimators': 1477, 'learning_rate': 0.00926034832264115, 'max_depth': 9, 'min_child_weight': 0.2813351549082307, 'subsample': 0.9558460102215038, 'colsample_bytree': 0.5663026217139007, 'gamma': 0.013664295568842952, 'reg_alpha': 0.017915901684409062, 'reg_lambda': 0.0010841284235992216}. Best is trial 30 with value: 0.06302460533747589.\n"
     ]
    },
    {
     "name": "stderr",
     "output_type": "stream",
     "text": [
      "Best trial: 30. Best value: 0.0630246:  40%|████      | 32/80 [00:59<01:38,  2.05s/it]"
     ]
    },
    {
     "name": "stdout",
     "output_type": "stream",
     "text": [
      "[I 2025-08-26 15:20:00,303] Trial 31 finished with value: 0.06315519044628032 and parameters: {'n_estimators': 1506, 'learning_rate': 0.00930285498899274, 'max_depth': 9, 'min_child_weight': 0.35749963206281127, 'subsample': 0.9483344926948007, 'colsample_bytree': 0.5533287276693708, 'gamma': 0.017422821454696424, 'reg_alpha': 0.012159543260994575, 'reg_lambda': 0.001551309172276614}. Best is trial 30 with value: 0.06302460533747589.\n"
     ]
    },
    {
     "name": "stderr",
     "output_type": "stream",
     "text": [
      "Best trial: 30. Best value: 0.0630246:  41%|████▏     | 33/80 [01:01<01:33,  1.99s/it]"
     ]
    },
    {
     "name": "stdout",
     "output_type": "stream",
     "text": [
      "[I 2025-08-26 15:20:02,149] Trial 32 finished with value: 0.10316714601632629 and parameters: {'n_estimators': 1540, 'learning_rate': 0.009636689023917613, 'max_depth': 12, 'min_child_weight': 0.3358666336712017, 'subsample': 0.9499549216371004, 'colsample_bytree': 0.5577823640585724, 'gamma': 0.7937500094529312, 'reg_alpha': 0.14572371609604, 'reg_lambda': 0.00255909149140495}. Best is trial 30 with value: 0.06302460533747589.\n"
     ]
    },
    {
     "name": "stderr",
     "output_type": "stream",
     "text": [
      "Best trial: 30. Best value: 0.0630246:  42%|████▎     | 34/80 [01:03<01:28,  1.93s/it]"
     ]
    },
    {
     "name": "stdout",
     "output_type": "stream",
     "text": [
      "[I 2025-08-26 15:20:03,923] Trial 33 finished with value: 0.1031663240734511 and parameters: {'n_estimators': 1523, 'learning_rate': 0.0028704349481115114, 'max_depth': 11, 'min_child_weight': 1.145136402590039, 'subsample': 0.9445496785869012, 'colsample_bytree': 0.5052852542616154, 'gamma': 0.6772467295975423, 'reg_alpha': 0.01407404851966204, 'reg_lambda': 0.002104025695916794}. Best is trial 30 with value: 0.06302460533747589.\n"
     ]
    },
    {
     "name": "stderr",
     "output_type": "stream",
     "text": [
      "Best trial: 30. Best value: 0.0630246:  44%|████▍     | 35/80 [01:04<01:24,  1.89s/it]"
     ]
    },
    {
     "name": "stdout",
     "output_type": "stream",
     "text": [
      "[I 2025-08-26 15:20:05,727] Trial 34 finished with value: 0.1031607466488502 and parameters: {'n_estimators': 1448, 'learning_rate': 0.027461080316473343, 'max_depth': 9, 'min_child_weight': 0.4374266683453751, 'subsample': 0.9794439168975481, 'colsample_bytree': 0.5662123611267694, 'gamma': 2.1371571098597992, 'reg_alpha': 0.0006327687594110227, 'reg_lambda': 4.182561250911306e-05}. Best is trial 30 with value: 0.06302460533747589.\n"
     ]
    },
    {
     "name": "stderr",
     "output_type": "stream",
     "text": [
      "Best trial: 30. Best value: 0.0630246:  45%|████▌     | 36/80 [01:06<01:18,  1.79s/it]"
     ]
    },
    {
     "name": "stdout",
     "output_type": "stream",
     "text": [
      "[I 2025-08-26 15:20:07,279] Trial 35 finished with value: 0.06817844153933617 and parameters: {'n_estimators': 1096, 'learning_rate': 0.010176163761136368, 'max_depth': 10, 'min_child_weight': 1.5357069633926816, 'subsample': 0.9214848308200076, 'colsample_bytree': 0.6210980914373812, 'gamma': 0.038797241713372496, 'reg_alpha': 0.2624483391618328, 'reg_lambda': 0.0007559354745475077}. Best is trial 30 with value: 0.06302460533747589.\n"
     ]
    },
    {
     "name": "stderr",
     "output_type": "stream",
     "text": [
      "Best trial: 30. Best value: 0.0630246:  46%|████▋     | 37/80 [01:08<01:14,  1.72s/it]"
     ]
    },
    {
     "name": "stdout",
     "output_type": "stream",
     "text": [
      "[I 2025-08-26 15:20:08,851] Trial 36 finished with value: 0.10307766158572385 and parameters: {'n_estimators': 1239, 'learning_rate': 0.02573570723502973, 'max_depth': 9, 'min_child_weight': 0.621334294920386, 'subsample': 0.8691402970757778, 'colsample_bytree': 0.551019514015228, 'gamma': 0.9575247657264306, 'reg_alpha': 0.000782023608673703, 'reg_lambda': 0.0002841339734965035}. Best is trial 30 with value: 0.06302460533747589.\n"
     ]
    },
    {
     "name": "stderr",
     "output_type": "stream",
     "text": [
      "Best trial: 30. Best value: 0.0630246:  48%|████▊     | 38/80 [01:09<01:14,  1.76s/it]"
     ]
    },
    {
     "name": "stdout",
     "output_type": "stream",
     "text": [
      "[I 2025-08-26 15:20:10,713] Trial 37 finished with value: 0.10316823010146758 and parameters: {'n_estimators': 1482, 'learning_rate': 0.0030706756022861946, 'max_depth': 11, 'min_child_weight': 0.24546572465210037, 'subsample': 0.9294588901763172, 'colsample_bytree': 0.5162630515197655, 'gamma': 2.028277471101802, 'reg_alpha': 0.009992266330977669, 'reg_lambda': 0.003258964321178078}. Best is trial 30 with value: 0.06302460533747589.\n"
     ]
    },
    {
     "name": "stderr",
     "output_type": "stream",
     "text": [
      "Best trial: 30. Best value: 0.0630246:  49%|████▉     | 39/80 [01:11<01:16,  1.86s/it]"
     ]
    },
    {
     "name": "stdout",
     "output_type": "stream",
     "text": [
      "[I 2025-08-26 15:20:12,809] Trial 38 finished with value: 0.10315362940979629 and parameters: {'n_estimators': 1752, 'learning_rate': 0.00903508858015238, 'max_depth': 8, 'min_child_weight': 0.1044917949103734, 'subsample': 0.9672756563352818, 'colsample_bytree': 0.6041205719969965, 'gamma': 0.8090089040576378, 'reg_alpha': 0.0917363729594824, 'reg_lambda': 6.116908029960912e-06}. Best is trial 30 with value: 0.06302460533747589.\n"
     ]
    },
    {
     "name": "stderr",
     "output_type": "stream",
     "text": [
      "Best trial: 30. Best value: 0.0630246:  50%|█████     | 40/80 [01:13<01:12,  1.81s/it]"
     ]
    },
    {
     "name": "stdout",
     "output_type": "stream",
     "text": [
      "[I 2025-08-26 15:20:14,501] Trial 39 finished with value: 0.10316404414785998 and parameters: {'n_estimators': 1305, 'learning_rate': 0.003367893668611214, 'max_depth': 8, 'min_child_weight': 0.6074500281148856, 'subsample': 0.8585815454322867, 'colsample_bytree': 0.5724286413367778, 'gamma': 0.4799032927517224, 'reg_alpha': 0.38494776817347065, 'reg_lambda': 0.0070732863485207425}. Best is trial 30 with value: 0.06302460533747589.\n"
     ]
    },
    {
     "name": "stderr",
     "output_type": "stream",
     "text": [
      "Best trial: 30. Best value: 0.0630246:  51%|█████▏    | 41/80 [01:15<01:05,  1.68s/it]"
     ]
    },
    {
     "name": "stdout",
     "output_type": "stream",
     "text": [
      "[I 2025-08-26 15:20:15,860] Trial 40 finished with value: 0.10315728800623855 and parameters: {'n_estimators': 1014, 'learning_rate': 0.0017381765532456532, 'max_depth': 9, 'min_child_weight': 0.24343540488104987, 'subsample': 0.9988821601233745, 'colsample_bytree': 0.5412794676601729, 'gamma': 1.4238812446066227, 'reg_alpha': 0.06012214649312773, 'reg_lambda': 0.00013686580690875846}. Best is trial 30 with value: 0.06302460533747589.\n"
     ]
    },
    {
     "name": "stderr",
     "output_type": "stream",
     "text": [
      "Best trial: 30. Best value: 0.0630246:  52%|█████▎    | 42/80 [01:16<01:01,  1.63s/it]"
     ]
    },
    {
     "name": "stdout",
     "output_type": "stream",
     "text": [
      "[I 2025-08-26 15:20:17,380] Trial 41 finished with value: 0.1031565138117608 and parameters: {'n_estimators': 1184, 'learning_rate': 0.011368301227172787, 'max_depth': 10, 'min_child_weight': 5.095599139045148, 'subsample': 0.9245519049498314, 'colsample_bytree': 0.6421196174310191, 'gamma': 0.22378624575796946, 'reg_alpha': 6.070543611683481, 'reg_lambda': 0.0006917617676977218}. Best is trial 30 with value: 0.06302460533747589.\n"
     ]
    },
    {
     "name": "stderr",
     "output_type": "stream",
     "text": [
      "Best trial: 30. Best value: 0.0630246:  54%|█████▍    | 43/80 [01:18<00:58,  1.59s/it]"
     ]
    },
    {
     "name": "stdout",
     "output_type": "stream",
     "text": [
      "[I 2025-08-26 15:20:18,882] Trial 42 finished with value: 0.06855120999727256 and parameters: {'n_estimators': 1112, 'learning_rate': 0.007203641629248992, 'max_depth': 11, 'min_child_weight': 1.0928782734272766, 'subsample': 0.9130591005888613, 'colsample_bytree': 0.6254356061629688, 'gamma': 0.028339152555326107, 'reg_alpha': 0.38236937012462985, 'reg_lambda': 0.0006576014338502755}. Best is trial 30 with value: 0.06302460533747589.\n"
     ]
    },
    {
     "name": "stderr",
     "output_type": "stream",
     "text": [
      "Best trial: 30. Best value: 0.0630246:  55%|█████▌    | 44/80 [01:19<00:51,  1.44s/it]"
     ]
    },
    {
     "name": "stdout",
     "output_type": "stream",
     "text": [
      "[I 2025-08-26 15:20:19,966] Trial 43 finished with value: 0.10307306369244147 and parameters: {'n_estimators': 762, 'learning_rate': 0.00451912115420756, 'max_depth': 10, 'min_child_weight': 1.6363992387506885, 'subsample': 0.9689618380284786, 'colsample_bytree': 0.5321195352481216, 'gamma': 0.5369458612482643, 'reg_alpha': 0.006363425046723227, 'reg_lambda': 3.3331234274468934e-05}. Best is trial 30 with value: 0.06302460533747589.\n"
     ]
    },
    {
     "name": "stderr",
     "output_type": "stream",
     "text": [
      "Best trial: 30. Best value: 0.0630246:  56%|█████▋    | 45/80 [01:20<00:50,  1.45s/it]"
     ]
    },
    {
     "name": "stdout",
     "output_type": "stream",
     "text": [
      "[I 2025-08-26 15:20:21,433] Trial 44 finished with value: 0.1031650744805731 and parameters: {'n_estimators': 1091, 'learning_rate': 0.03747008005796803, 'max_depth': 9, 'min_child_weight': 2.0703436284806136, 'subsample': 0.9290603655219819, 'colsample_bytree': 0.6085757715660416, 'gamma': 8.602388794499964, 'reg_alpha': 0.04229172880216516, 'reg_lambda': 0.0013196712589401446}. Best is trial 30 with value: 0.06302460533747589.\n"
     ]
    },
    {
     "name": "stderr",
     "output_type": "stream",
     "text": [
      "Best trial: 30. Best value: 0.0630246:  57%|█████▊    | 46/80 [01:21<00:47,  1.40s/it]"
     ]
    },
    {
     "name": "stdout",
     "output_type": "stream",
     "text": [
      "[I 2025-08-26 15:20:22,734] Trial 45 finished with value: 0.0648213659927413 and parameters: {'n_estimators': 938, 'learning_rate': 0.012252393439069984, 'max_depth': 8, 'min_child_weight': 0.39862508891669146, 'subsample': 0.8786778976056437, 'colsample_bytree': 0.5785305452661514, 'gamma': 0.04193385811778895, 'reg_alpha': 0.00011408078617896753, 'reg_lambda': 0.0004223993182938092}. Best is trial 30 with value: 0.06302460533747589.\n"
     ]
    },
    {
     "name": "stderr",
     "output_type": "stream",
     "text": [
      "Best trial: 30. Best value: 0.0630246:  59%|█████▉    | 47/80 [01:22<00:41,  1.25s/it]"
     ]
    },
    {
     "name": "stdout",
     "output_type": "stream",
     "text": [
      "[I 2025-08-26 15:20:23,617] Trial 46 finished with value: 0.103167512598343 and parameters: {'n_estimators': 532, 'learning_rate': 0.013586982718900268, 'max_depth': 8, 'min_child_weight': 0.12077242814520338, 'subsample': 0.8860823036087565, 'colsample_bytree': 0.5237983632132314, 'gamma': 1.8564290572930822, 'reg_alpha': 8.412123353205523e-05, 'reg_lambda': 0.00854358725234989}. Best is trial 30 with value: 0.06302460533747589.\n"
     ]
    },
    {
     "name": "stderr",
     "output_type": "stream",
     "text": [
      "Best trial: 30. Best value: 0.0630246:  60%|██████    | 48/80 [01:24<00:39,  1.24s/it]"
     ]
    },
    {
     "name": "stdout",
     "output_type": "stream",
     "text": [
      "[I 2025-08-26 15:20:24,836] Trial 47 finished with value: 0.10319101980406056 and parameters: {'n_estimators': 873, 'learning_rate': 0.007767641414515702, 'max_depth': 8, 'min_child_weight': 0.39599019886759945, 'subsample': 0.8711264714441712, 'colsample_bytree': 0.5646509872485338, 'gamma': 1.1976504284179583, 'reg_alpha': 0.0010959689620992734, 'reg_lambda': 0.000293411342926045}. Best is trial 30 with value: 0.06302460533747589.\n"
     ]
    },
    {
     "name": "stderr",
     "output_type": "stream",
     "text": [
      "Best trial: 30. Best value: 0.0630246:  61%|██████▏   | 49/80 [01:25<00:39,  1.29s/it]"
     ]
    },
    {
     "name": "stdout",
     "output_type": "stream",
     "text": [
      "[I 2025-08-26 15:20:26,241] Trial 48 finished with value: 0.10315849732801521 and parameters: {'n_estimators': 978, 'learning_rate': 0.004722796740668046, 'max_depth': 9, 'min_child_weight': 0.07552868758331649, 'subsample': 0.9743103719293625, 'colsample_bytree': 0.5854335805663015, 'gamma': 0.564233853327595, 'reg_alpha': 0.00016329536512404305, 'reg_lambda': 1.7179684412879265e-06}. Best is trial 30 with value: 0.06302460533747589.\n"
     ]
    },
    {
     "name": "stderr",
     "output_type": "stream",
     "text": [
      "Best trial: 30. Best value: 0.0630246:  62%|██████▎   | 50/80 [01:27<00:43,  1.43s/it]"
     ]
    },
    {
     "name": "stdout",
     "output_type": "stream",
     "text": [
      "[I 2025-08-26 15:20:28,012] Trial 49 finished with value: 0.1031565138117608 and parameters: {'n_estimators': 1415, 'learning_rate': 0.017863408409220696, 'max_depth': 6, 'min_child_weight': 0.7093440220789834, 'subsample': 0.904755913883834, 'colsample_bytree': 0.9480450770644245, 'gamma': 3.2378111263313327, 'reg_alpha': 2.1888834494507203, 'reg_lambda': 9.974630286616574e-05}. Best is trial 30 with value: 0.06302460533747589.\n"
     ]
    },
    {
     "name": "stderr",
     "output_type": "stream",
     "text": [
      "Best trial: 30. Best value: 0.0630246:  64%|██████▍   | 51/80 [01:29<00:46,  1.59s/it]"
     ]
    },
    {
     "name": "stdout",
     "output_type": "stream",
     "text": [
      "[I 2025-08-26 15:20:29,968] Trial 50 finished with value: 0.10313481997750824 and parameters: {'n_estimators': 1700, 'learning_rate': 0.02398504061535701, 'max_depth': 10, 'min_child_weight': 0.21904355774813591, 'subsample': 0.9455158694382668, 'colsample_bytree': 0.5452064338662098, 'gamma': 0.9954085426046885, 'reg_alpha': 0.0002783364972028427, 'reg_lambda': 0.47763682549431186}. Best is trial 30 with value: 0.06302460533747589.\n"
     ]
    },
    {
     "name": "stderr",
     "output_type": "stream",
     "text": [
      "Best trial: 30. Best value: 0.0630246:  65%|██████▌   | 52/80 [01:30<00:41,  1.49s/it]"
     ]
    },
    {
     "name": "stdout",
     "output_type": "stream",
     "text": [
      "[I 2025-08-26 15:20:31,236] Trial 51 finished with value: 0.10055270358623887 and parameters: {'n_estimators': 937, 'learning_rate': 0.011554857320944441, 'max_depth': 8, 'min_child_weight': 4.1959430731064185, 'subsample': 0.9181817202687451, 'colsample_bytree': 0.6233792082290152, 'gamma': 0.36545605303700024, 'reg_alpha': 0.31487105244900315, 'reg_lambda': 0.0003763603408749502}. Best is trial 30 with value: 0.06302460533747589.\n"
     ]
    },
    {
     "name": "stderr",
     "output_type": "stream",
     "text": [
      "Best trial: 30. Best value: 0.0630246:  66%|██████▋   | 53/80 [01:31<00:37,  1.40s/it]"
     ]
    },
    {
     "name": "stdout",
     "output_type": "stream",
     "text": [
      "[I 2025-08-26 15:20:32,425] Trial 52 finished with value: 0.07906337850761744 and parameters: {'n_estimators': 766, 'learning_rate': 0.020947153923718292, 'max_depth': 9, 'min_child_weight': 11.75251572003745, 'subsample': 0.7981765009082852, 'colsample_bytree': 0.715044943463856, 'gamma': 0.17560350569484726, 'reg_alpha': 0.00849882486459488, 'reg_lambda': 0.005579830840682421}. Best is trial 30 with value: 0.06302460533747589.\n"
     ]
    },
    {
     "name": "stderr",
     "output_type": "stream",
     "text": [
      "Best trial: 30. Best value: 0.0630246:  68%|██████▊   | 54/80 [01:33<00:36,  1.41s/it]"
     ]
    },
    {
     "name": "stdout",
     "output_type": "stream",
     "text": [
      "[I 2025-08-26 15:20:33,846] Trial 53 finished with value: 0.10316007701773806 and parameters: {'n_estimators': 1063, 'learning_rate': 0.03431391203344197, 'max_depth': 10, 'min_child_weight': 0.8089223321950747, 'subsample': 0.872550236275795, 'colsample_bytree': 0.5887222450821942, 'gamma': 2.382853299083379, 'reg_alpha': 1.1498053409878495, 'reg_lambda': 0.018073020553499995}. Best is trial 30 with value: 0.06302460533747589.\n"
     ]
    },
    {
     "name": "stderr",
     "output_type": "stream",
     "text": [
      "Best trial: 30. Best value: 0.0630246:  69%|██████▉   | 55/80 [01:34<00:38,  1.56s/it]"
     ]
    },
    {
     "name": "stdout",
     "output_type": "stream",
     "text": [
      "[I 2025-08-26 15:20:35,749] Trial 54 finished with value: 0.06765316297723147 and parameters: {'n_estimators': 1593, 'learning_rate': 0.005953231180026001, 'max_depth': 8, 'min_child_weight': 0.057601262474963486, 'subsample': 0.8504596591723822, 'colsample_bytree': 0.5652617310703997, 'gamma': 0.04230427746069634, 'reg_alpha': 0.2118653820351878, 'reg_lambda': 0.0011717085915041736}. Best is trial 30 with value: 0.06302460533747589.\n"
     ]
    },
    {
     "name": "stderr",
     "output_type": "stream",
     "text": [
      "Best trial: 30. Best value: 0.0630246:  70%|███████   | 56/80 [01:36<00:39,  1.66s/it]"
     ]
    },
    {
     "name": "stdout",
     "output_type": "stream",
     "text": [
      "[I 2025-08-26 15:20:37,664] Trial 55 finished with value: 0.10319268853964322 and parameters: {'n_estimators': 1597, 'learning_rate': 0.006268692122909842, 'max_depth': 8, 'min_child_weight': 0.030648707158650382, 'subsample': 0.8832524312324079, 'colsample_bytree': 0.5238065162532998, 'gamma': 0.6511275068482523, 'reg_alpha': 0.025602300505732284, 'reg_lambda': 4.188338404885404e-08}. Best is trial 30 with value: 0.06302460533747589.\n"
     ]
    },
    {
     "name": "stderr",
     "output_type": "stream",
     "text": [
      "Best trial: 30. Best value: 0.0630246:  71%|███████▏  | 57/80 [01:38<00:38,  1.69s/it]"
     ]
    },
    {
     "name": "stdout",
     "output_type": "stream",
     "text": [
      "[I 2025-08-26 15:20:39,399] Trial 56 finished with value: 0.1031540118849105 and parameters: {'n_estimators': 1400, 'learning_rate': 0.003909766905914115, 'max_depth': 7, 'min_child_weight': 0.06535890525069624, 'subsample': 0.8468813520637533, 'colsample_bytree': 0.5589838750220406, 'gamma': 1.5991109925566567, 'reg_alpha': 0.0013133615681431758, 'reg_lambda': 0.001746154722068827}. Best is trial 30 with value: 0.06302460533747589.\n"
     ]
    },
    {
     "name": "stderr",
     "output_type": "stream",
     "text": [
      "Best trial: 30. Best value: 0.0630246:  72%|███████▎  | 58/80 [01:40<00:39,  1.81s/it]"
     ]
    },
    {
     "name": "stdout",
     "output_type": "stream",
     "text": [
      "[I 2025-08-26 15:20:41,511] Trial 57 finished with value: 0.10319044624062332 and parameters: {'n_estimators': 1811, 'learning_rate': 0.002262075474760091, 'max_depth': 9, 'min_child_weight': 0.03285412355981404, 'subsample': 0.8079813381621458, 'colsample_bytree': 0.6400208737773626, 'gamma': 1.277859384110814, 'reg_alpha': 0.0005196842628142474, 'reg_lambda': 4.758536904565435e-05}. Best is trial 30 with value: 0.06302460533747589.\n"
     ]
    },
    {
     "name": "stderr",
     "output_type": "stream",
     "text": [
      "Best trial: 30. Best value: 0.0630246:  74%|███████▍  | 59/80 [01:42<00:41,  1.97s/it]"
     ]
    },
    {
     "name": "stdout",
     "output_type": "stream",
     "text": [
      "[I 2025-08-26 15:20:43,830] Trial 58 finished with value: 0.10271008165650666 and parameters: {'n_estimators': 1933, 'learning_rate': 0.001044468712680516, 'max_depth': 6, 'min_child_weight': 0.12462067396508923, 'subsample': 0.8540783871306135, 'colsample_bytree': 0.5720643196343417, 'gamma': 0.45588819264947955, 'reg_alpha': 0.12831715603703317, 'reg_lambda': 1.070192422870327e-05}. Best is trial 30 with value: 0.06302460533747589.\n"
     ]
    },
    {
     "name": "stderr",
     "output_type": "stream",
     "text": [
      "Best trial: 30. Best value: 0.0630246:  75%|███████▌  | 60/80 [01:45<00:41,  2.05s/it]"
     ]
    },
    {
     "name": "stdout",
     "output_type": "stream",
     "text": [
      "[I 2025-08-26 15:20:46,092] Trial 59 finished with value: 0.06304653377248473 and parameters: {'n_estimators': 1632, 'learning_rate': 0.005728395142606232, 'max_depth': 7, 'min_child_weight': 0.31845239929016483, 'subsample': 0.9828334320316472, 'colsample_bytree': 0.6053485367503236, 'gamma': 0.004030528385829839, 'reg_alpha': 9.060080201032681e-05, 'reg_lambda': 0.006212219073652475}. Best is trial 30 with value: 0.06302460533747589.\n"
     ]
    },
    {
     "name": "stderr",
     "output_type": "stream",
     "text": [
      "Best trial: 30. Best value: 0.0630246:  76%|███████▋  | 61/80 [01:47<00:38,  2.04s/it]"
     ]
    },
    {
     "name": "stdout",
     "output_type": "stream",
     "text": [
      "[I 2025-08-26 15:20:48,093] Trial 60 finished with value: 0.10315071471765044 and parameters: {'n_estimators': 1714, 'learning_rate': 0.013677124445258915, 'max_depth': 7, 'min_child_weight': 0.32335268904606107, 'subsample': 0.9908035767444238, 'colsample_bytree': 0.6676228144139024, 'gamma': 0.9066361819818207, 'reg_alpha': 1.2950468331472576e-05, 'reg_lambda': 0.004391771585315591}. Best is trial 30 with value: 0.06302460533747589.\n"
     ]
    },
    {
     "name": "stderr",
     "output_type": "stream",
     "text": [
      "Best trial: 30. Best value: 0.0630246:  78%|███████▊  | 62/80 [01:49<00:36,  2.03s/it]"
     ]
    },
    {
     "name": "stdout",
     "output_type": "stream",
     "text": [
      "[I 2025-08-26 15:20:50,094] Trial 61 finished with value: 0.09780185837444601 and parameters: {'n_estimators': 1630, 'learning_rate': 0.008488181945887359, 'max_depth': 8, 'min_child_weight': 0.4842827241754679, 'subsample': 0.9591910609516221, 'colsample_bytree': 0.6058842788504082, 'gamma': 0.4112292416945597, 'reg_alpha': 5.444451133817353e-05, 'reg_lambda': 0.03740280759904194}. Best is trial 30 with value: 0.06302460533747589.\n"
     ]
    },
    {
     "name": "stderr",
     "output_type": "stream",
     "text": [
      "Best trial: 62. Best value: 0.0629348:  79%|███████▉  | 63/80 [01:51<00:35,  2.08s/it]"
     ]
    },
    {
     "name": "stdout",
     "output_type": "stream",
     "text": [
      "[I 2025-08-26 15:20:52,311] Trial 62 finished with value: 0.06293478966907448 and parameters: {'n_estimators': 1563, 'learning_rate': 0.005567897557380585, 'max_depth': 6, 'min_child_weight': 0.15384019973645438, 'subsample': 0.933861275067867, 'colsample_bytree': 0.5423182422467339, 'gamma': 0.012745192138605603, 'reg_alpha': 0.003353842677496007, 'reg_lambda': 0.015320553058220615}. Best is trial 62 with value: 0.06293478966907448.\n"
     ]
    },
    {
     "name": "stderr",
     "output_type": "stream",
     "text": [
      "Best trial: 63. Best value: 0.0627274:  80%|████████  | 64/80 [01:54<00:35,  2.22s/it]"
     ]
    },
    {
     "name": "stdout",
     "output_type": "stream",
     "text": [
      "[I 2025-08-26 15:20:54,843] Trial 63 finished with value: 0.06272742380468571 and parameters: {'n_estimators': 1816, 'learning_rate': 0.0053232299211020085, 'max_depth': 6, 'min_child_weight': 0.20729992399432282, 'subsample': 0.9402610289114062, 'colsample_bytree': 0.5423284147000396, 'gamma': 0.006500517220826585, 'reg_alpha': 0.00012280181695816018, 'reg_lambda': 0.012588382893726364}. Best is trial 63 with value: 0.06272742380468571.\n"
     ]
    },
    {
     "name": "stderr",
     "output_type": "stream",
     "text": [
      "Best trial: 63. Best value: 0.0627274:  81%|████████▏ | 65/80 [01:55<00:31,  2.08s/it]"
     ]
    },
    {
     "name": "stdout",
     "output_type": "stream",
     "text": [
      "[I 2025-08-26 15:20:56,587] Trial 64 finished with value: 0.10320960905071896 and parameters: {'n_estimators': 1487, 'learning_rate': 0.005432777389750011, 'max_depth': 6, 'min_child_weight': 0.19738312873041156, 'subsample': 0.6194966737690777, 'colsample_bytree': 0.5108952408779296, 'gamma': 0.8060812497263159, 'reg_alpha': 0.00011709618810455688, 'reg_lambda': 0.013162441103864409}. Best is trial 63 with value: 0.06272742380468571.\n"
     ]
    },
    {
     "name": "stderr",
     "output_type": "stream",
     "text": [
      "Best trial: 63. Best value: 0.0627274:  82%|████████▎ | 66/80 [01:57<00:28,  2.02s/it]"
     ]
    },
    {
     "name": "stdout",
     "output_type": "stream",
     "text": [
      "[I 2025-08-26 15:20:58,491] Trial 65 finished with value: 0.10315850246349054 and parameters: {'n_estimators': 1552, 'learning_rate': 0.004001394458942138, 'max_depth': 5, 'min_child_weight': 0.16048040231887498, 'subsample': 0.9862704292295666, 'colsample_bytree': 0.5396412249493209, 'gamma': 1.7164788029432443, 'reg_alpha': 0.004453655356790609, 'reg_lambda': 0.017285520701322995}. Best is trial 63 with value: 0.06272742380468571.\n"
     ]
    },
    {
     "name": "stderr",
     "output_type": "stream",
     "text": [
      "Best trial: 63. Best value: 0.0627274:  84%|████████▍ | 67/80 [01:59<00:24,  1.91s/it]"
     ]
    },
    {
     "name": "stdout",
     "output_type": "stream",
     "text": [
      "[I 2025-08-26 15:21:00,126] Trial 66 finished with value: 0.10315811725700588 and parameters: {'n_estimators': 1308, 'learning_rate': 0.006533906893276481, 'max_depth': 7, 'min_child_weight': 0.2965470214170191, 'subsample': 0.9430456006370409, 'colsample_bytree': 0.5264395271951164, 'gamma': 6.767586699010392, 'reg_alpha': 3.585882817638821e-06, 'reg_lambda': 0.11031229873237564}. Best is trial 63 with value: 0.06272742380468571.\n"
     ]
    },
    {
     "name": "stderr",
     "output_type": "stream",
     "text": [
      "Best trial: 63. Best value: 0.0627274:  85%|████████▌ | 68/80 [02:01<00:23,  1.98s/it]"
     ]
    },
    {
     "name": "stdout",
     "output_type": "stream",
     "text": [
      "[I 2025-08-26 15:21:02,276] Trial 67 finished with value: 0.10314669091173279 and parameters: {'n_estimators': 1720, 'learning_rate': 0.011458240659582744, 'max_depth': 6, 'min_child_weight': 0.3888577918222879, 'subsample': 0.9604858138039721, 'colsample_bytree': 0.5471799574229841, 'gamma': 1.207317986136647, 'reg_alpha': 0.0002842583277718448, 'reg_lambda': 0.00023692257167095098}. Best is trial 63 with value: 0.06272742380468571.\n"
     ]
    },
    {
     "name": "stderr",
     "output_type": "stream",
     "text": [
      "Best trial: 63. Best value: 0.0627274:  86%|████████▋ | 69/80 [02:03<00:22,  2.05s/it]"
     ]
    },
    {
     "name": "stdout",
     "output_type": "stream",
     "text": [
      "[I 2025-08-26 15:21:04,491] Trial 68 finished with value: 0.09503015801078815 and parameters: {'n_estimators': 1802, 'learning_rate': 0.020917679127563215, 'max_depth': 5, 'min_child_weight': 0.5320446788528019, 'subsample': 0.9321843970846156, 'colsample_bytree': 0.5539139311325628, 'gamma': 0.3774527437534653, 'reg_alpha': 0.002376024013729963, 'reg_lambda': 0.00673371555316472}. Best is trial 63 with value: 0.06272742380468571.\n"
     ]
    },
    {
     "name": "stderr",
     "output_type": "stream",
     "text": [
      "Best trial: 63. Best value: 0.0627274:  88%|████████▊ | 70/80 [02:05<00:20,  2.04s/it]"
     ]
    },
    {
     "name": "stdout",
     "output_type": "stream",
     "text": [
      "[I 2025-08-26 15:21:06,505] Trial 69 finished with value: 0.10316880914808915 and parameters: {'n_estimators': 1638, 'learning_rate': 0.0022604025724106374, 'max_depth': 7, 'min_child_weight': 0.10437427840889119, 'subsample': 0.9062253705988622, 'colsample_bytree': 0.58761980787848, 'gamma': 0.7463185400104533, 'reg_alpha': 2.4968694432269635e-05, 'reg_lambda': 0.026457903558935597}. Best is trial 63 with value: 0.06272742380468571.\n"
     ]
    },
    {
     "name": "stderr",
     "output_type": "stream",
     "text": [
      "Best trial: 63. Best value: 0.0627274:  89%|████████▉ | 71/80 [02:07<00:17,  1.98s/it]"
     ]
    },
    {
     "name": "stdout",
     "output_type": "stream",
     "text": [
      "[I 2025-08-26 15:21:08,340] Trial 70 finished with value: 0.10315893865951573 and parameters: {'n_estimators': 1452, 'learning_rate': 0.008032753519635422, 'max_depth': 9, 'min_child_weight': 0.14018302572918173, 'subsample': 0.9805436308853813, 'colsample_bytree': 0.818817751686393, 'gamma': 4.427147183915997, 'reg_alpha': 7.234126302672574e-05, 'reg_lambda': 0.002675567417975516}. Best is trial 63 with value: 0.06272742380468571.\n"
     ]
    },
    {
     "name": "stderr",
     "output_type": "stream",
     "text": [
      "Best trial: 63. Best value: 0.0627274:  90%|█████████ | 72/80 [02:09<00:16,  2.10s/it]"
     ]
    },
    {
     "name": "stdout",
     "output_type": "stream",
     "text": [
      "[I 2025-08-26 15:21:10,726] Trial 71 finished with value: 0.06460078662568662 and parameters: {'n_estimators': 1962, 'learning_rate': 0.0745271192901381, 'max_depth': 6, 'min_child_weight': 0.2527612659485543, 'subsample': 0.9340538368002637, 'colsample_bytree': 0.6017376833301765, 'gamma': 0.009244096673064577, 'reg_alpha': 0.014968699137248099, 'reg_lambda': 0.050759092792014786}. Best is trial 63 with value: 0.06272742380468571.\n"
     ]
    },
    {
     "name": "stderr",
     "output_type": "stream",
     "text": [
      "Best trial: 63. Best value: 0.0627274:  91%|█████████▏| 73/80 [02:12<00:15,  2.20s/it]"
     ]
    },
    {
     "name": "stdout",
     "output_type": "stream",
     "text": [
      "[I 2025-08-26 15:21:13,159] Trial 72 finished with value: 0.08887407993955984 and parameters: {'n_estimators': 1953, 'learning_rate': 0.06881256269881178, 'max_depth': 6, 'min_child_weight': 0.264684522448369, 'subsample': 0.940390017957748, 'colsample_bytree': 0.5754914595739193, 'gamma': 0.29893166229723855, 'reg_alpha': 0.01869549412554851, 'reg_lambda': 0.012064386517838338}. Best is trial 63 with value: 0.06272742380468571.\n"
     ]
    },
    {
     "name": "stderr",
     "output_type": "stream",
     "text": [
      "Best trial: 63. Best value: 0.0627274:  92%|█████████▎| 74/80 [02:14<00:13,  2.29s/it]"
     ]
    },
    {
     "name": "stdout",
     "output_type": "stream",
     "text": [
      "[I 2025-08-26 15:21:15,668] Trial 73 finished with value: 0.06531232578501348 and parameters: {'n_estimators': 1994, 'learning_rate': 0.015046156792704093, 'max_depth': 6, 'min_child_weight': 0.19662093898463734, 'subsample': 0.9607622027782623, 'colsample_bytree': 0.6102545785770911, 'gamma': 0.03888293718783747, 'reg_alpha': 0.05688372753850229, 'reg_lambda': 0.18058119150908195}. Best is trial 63 with value: 0.06272742380468571.\n"
     ]
    },
    {
     "name": "stderr",
     "output_type": "stream",
     "text": [
      "Best trial: 63. Best value: 0.0627274:  94%|█████████▍| 75/80 [02:17<00:11,  2.29s/it]"
     ]
    },
    {
     "name": "stdout",
     "output_type": "stream",
     "text": [
      "[I 2025-08-26 15:21:17,934] Trial 74 finished with value: 0.10315970541640418 and parameters: {'n_estimators': 1910, 'learning_rate': 0.015812765612588056, 'max_depth': 6, 'min_child_weight': 0.1967776737631378, 'subsample': 0.9999175708746181, 'colsample_bytree': 0.6139565899089133, 'gamma': 0.9495194966610923, 'reg_alpha': 0.04196164468485538, 'reg_lambda': 0.07952623809669015}. Best is trial 63 with value: 0.06272742380468571.\n"
     ]
    },
    {
     "name": "stderr",
     "output_type": "stream",
     "text": [
      "Best trial: 63. Best value: 0.0627274:  95%|█████████▌| 76/80 [02:19<00:09,  2.28s/it]"
     ]
    },
    {
     "name": "stdout",
     "output_type": "stream",
     "text": [
      "[I 2025-08-26 15:21:20,216] Trial 75 finished with value: 0.10315850493564538 and parameters: {'n_estimators': 1987, 'learning_rate': 0.005325298986331954, 'max_depth': 5, 'min_child_weight': 0.3338209833531921, 'subsample': 0.9558797612169906, 'colsample_bytree': 0.5015878964733353, 'gamma': 0.5967786773314023, 'reg_alpha': 0.011632914450717373, 'reg_lambda': 0.18889184734855163}. Best is trial 63 with value: 0.06272742380468571.\n"
     ]
    },
    {
     "name": "stderr",
     "output_type": "stream",
     "text": [
      "Best trial: 63. Best value: 0.0627274:  96%|█████████▋| 77/80 [02:21<00:06,  2.29s/it]"
     ]
    },
    {
     "name": "stdout",
     "output_type": "stream",
     "text": [
      "[I 2025-08-26 15:21:22,520] Trial 76 finished with value: 0.10315617540567641 and parameters: {'n_estimators': 1870, 'learning_rate': 0.010313221261614264, 'max_depth': 5, 'min_child_weight': 0.09577058671999114, 'subsample': 0.9692947000268807, 'colsample_bytree': 0.7984024831204944, 'gamma': 1.371059928611895, 'reg_alpha': 0.058984817067331656, 'reg_lambda': 0.33983157201296316}. Best is trial 63 with value: 0.06272742380468571.\n"
     ]
    },
    {
     "name": "stderr",
     "output_type": "stream",
     "text": [
      "Best trial: 63. Best value: 0.0627274:  98%|█████████▊| 78/80 [02:24<00:04,  2.39s/it]"
     ]
    },
    {
     "name": "stdout",
     "output_type": "stream",
     "text": [
      "[I 2025-08-26 15:21:25,128] Trial 77 finished with value: 0.06349026741358861 and parameters: {'n_estimators': 2000, 'learning_rate': 0.01327599518610811, 'max_depth': 6, 'min_child_weight': 0.5192243961721204, 'subsample': 0.9326134215057361, 'colsample_bytree': 0.5960557530874159, 'gamma': 0.01466342347167453, 'reg_alpha': 0.005169673715566554, 'reg_lambda': 1.6986172780483837}. Best is trial 63 with value: 0.06272742380468571.\n"
     ]
    },
    {
     "name": "stderr",
     "output_type": "stream",
     "text": [
      "Best trial: 63. Best value: 0.0627274:  99%|█████████▉| 79/80 [02:26<00:02,  2.35s/it]"
     ]
    },
    {
     "name": "stdout",
     "output_type": "stream",
     "text": [
      "[I 2025-08-26 15:21:27,407] Trial 78 finished with value: 0.09399761962034041 and parameters: {'n_estimators': 1875, 'learning_rate': 0.007093672395389846, 'max_depth': 7, 'min_child_weight': 0.46154449753910914, 'subsample': 0.9036182388927536, 'colsample_bytree': 0.5957085575524023, 'gamma': 0.3357442337946153, 'reg_alpha': 0.004050949510915292, 'reg_lambda': 1.7950848915364885}. Best is trial 63 with value: 0.06272742380468571.\n"
     ]
    },
    {
     "name": "stderr",
     "output_type": "stream",
     "text": [
      "Best trial: 63. Best value: 0.0627274: 100%|██████████| 80/80 [02:28<00:00,  1.86s/it]"
     ]
    },
    {
     "name": "stdout",
     "output_type": "stream",
     "text": [
      "[I 2025-08-26 15:21:29,517] Trial 79 finished with value: 0.10315642418406937 and parameters: {'n_estimators': 1790, 'learning_rate': 0.008844700678322588, 'max_depth': 7, 'min_child_weight': 0.926839771855084, 'subsample': 0.9343204162180275, 'colsample_bytree': 0.6358035775604431, 'gamma': 1.1009416433635706, 'reg_alpha': 0.0018270539406936561, 'reg_lambda': 4.232115497617666}. Best is trial 63 with value: 0.06272742380468571.\n",
      "Best RMSE (CV): 0.06272742380468571\n",
      "Best params:\n",
      "{\n",
      "  \"n_estimators\": 1816,\n",
      "  \"learning_rate\": 0.0053232299211020085,\n",
      "  \"max_depth\": 6,\n",
      "  \"min_child_weight\": 0.20729992399432282,\n",
      "  \"subsample\": 0.9402610289114062,\n",
      "  \"colsample_bytree\": 0.5423284147000396,\n",
      "  \"gamma\": 0.006500517220826585,\n",
      "  \"reg_alpha\": 0.00012280181695816018,\n",
      "  \"reg_lambda\": 0.012588382893726364\n",
      "}\n"
     ]
    },
    {
     "name": "stderr",
     "output_type": "stream",
     "text": [
      "\n"
     ]
    }
   ],
   "source": [
    "N_TRIALS = 80\n",
    "\n",
    "study = optuna.create_study(\n",
    "    direction=\"minimize\",\n",
    "    sampler=TPESampler(seed=RANDOM_SEED)\n",
    ")\n",
    "study.optimize(objective, n_trials=N_TRIALS, show_progress_bar=True)\n",
    "\n",
    "print(\"Best RMSE (CV):\", study.best_value)\n",
    "print(\"Best params:\")\n",
    "print(json.dumps(study.best_params, indent=2))\n",
    "\n",
    "with open(os.path.join(OUTDIR, \"optuna_best_params.json\"), \"w\") as f:\n",
    "    json.dump(study.best_params, f, indent=2)\n",
    "    best_params = json.load(f)\n",
    "\n",
    "\n",
    "\n",
    "best_params.setdefault(\"tree_method\", \"hist\")\n",
    "best_params.setdefault(\"random_state\", 42)"
   ]
  },
  {
   "cell_type": "code",
   "execution_count": 62,
   "id": "bd109270",
   "metadata": {},
   "outputs": [
    {
     "name": "stdout",
     "output_type": "stream",
     "text": [
      "Test -> R²=0.788, RMSE=0.048, MAE=0.037\n"
     ]
    },
    {
     "data": {
      "image/png": "[encoded data removed]",
      "text/plain": [
       "<Figure size 600x600 with 1 Axes>"
      ]
     },
     "metadata": {},
     "output_type": "display_data"
    },
    {
     "name": "stdout",
     "output_type": "stream",
     "text": [
      "Saved: C:/Users/MSc_SEIoT_1/MAPF_G2RL-main - train/pic_optuna\\pred_vs_actual_optuna.png\n"
     ]
    }
   ],
   "source": [
    "best_params = study.best_params.copy()\n",
    "best_params.update({\n",
    "    \"random_state\": RANDOM_SEED,\n",
    "    \"tree_method\": \"hist\",\n",
    "    \"n_jobs\": max(1, os.cpu_count()-1),\n",
    "    \"eval_metric\": \"rmse\",\n",
    "})\n",
    "best_model = XGBRegressor(**best_params)\n",
    "\n",
    "X_tr, X_va, y_tr, y_va = train_test_split(\n",
    "    X_train, y_train, test_size=0.1, random_state=RANDOM_SEED\n",
    ")\n",
    "\n",
    "best_model.fit(X_tr, y_tr, eval_set=[(X_va, y_va)], verbose=False)\n",
    "\n",
    "pred = best_model.predict(X_test)\n",
    "r2   = r2_score(y_test, pred)\n",
    "rmse = mean_squared_error(y_test, pred, squared=False)\n",
    "mae  = mean_absolute_error(y_test, pred)\n",
    "print(f\"Test -> R²={r2:.3f}, RMSE={rmse:.3f}, MAE={mae:.3f}\")\n",
    "\n",
    "plt.figure(figsize=(6,6))\n",
    "plt.scatter(y_test, pred, s=30)\n",
    "mn, mx = float(np.min(y_test)), float(np.max(y_test))\n",
    "plt.plot([mn, mx], [mn, mx], lw=2)\n",
    "plt.title(f\"Predicted vs Actual (XGB)\\nR²={r2:.3f}, RMSE={rmse:.3f}, MAE={mae:.3f}\")\n",
    "plt.xlabel(\"Actual\"); plt.ylabel(\"Predicted\")\n",
    "plt.tight_layout()\n",
    "out_path = os.path.join(OUTDIR, \"pred_vs_actual_optuna.png\")\n",
    "plt.savefig(out_path, dpi=150)\n",
    "plt.show()\n",
    "print(\"Saved:\", out_path)\n"
   ]
  },
  {
   "cell_type": "code",
   "execution_count": 1,
   "id": "d17a63ab",
   "metadata": {},
   "outputs": [
    {
     "ename": "NameError",
     "evalue": "name 'study' is not defined",
     "output_type": "error",
     "traceback": [
      "\u001b[1;31m---------------------------------------------------------------------------\u001b[0m",
      "\u001b[1;31mNameError\u001b[0m                                 Traceback (most recent call last)",
      "Cell \u001b[1;32mIn[1], line 2\u001b[0m\n\u001b[0;32m      1\u001b[0m \u001b[38;5;66;03m# ===== 1) 用最优参数训练老师模型（可用全数据或训练集） =====\u001b[39;00m\n\u001b[1;32m----> 2\u001b[0m best_params \u001b[38;5;241m=\u001b[39m \u001b[43mstudy\u001b[49m\u001b[38;5;241m.\u001b[39mbest_params\u001b[38;5;241m.\u001b[39mcopy()\n\u001b[0;32m      3\u001b[0m best_params\u001b[38;5;241m.\u001b[39msetdefault(\u001b[38;5;124m\"\u001b[39m\u001b[38;5;124mtree_method\u001b[39m\u001b[38;5;124m\"\u001b[39m, \u001b[38;5;124m\"\u001b[39m\u001b[38;5;124mhist\u001b[39m\u001b[38;5;124m\"\u001b[39m)\n\u001b[0;32m      4\u001b[0m best_params\u001b[38;5;241m.\u001b[39msetdefault(\u001b[38;5;124m\"\u001b[39m\u001b[38;5;124mrandom_state\u001b[39m\u001b[38;5;124m\"\u001b[39m, RANDOM_SEED)\n",
      "\u001b[1;31mNameError\u001b[0m: name 'study' is not defined"
     ]
    }
   ],
   "source": [
    "# ===== 1) 用最优参数训练老师模型（可用全数据或训练集） =====\n",
    "best_params = study.best_params.copy()\n",
    "best_params.setdefault(\"tree_method\", \"hist\")\n",
    "best_params.setdefault(\"random_state\", RANDOM_SEED)\n",
    "\n",
    "# X_all / y_all：建议用你训练时的同一份数据（或全量）来导出公式\n",
    "# 如果你上面已经有 X_train, y_train，也可以先拼回 DataFrame/ndarray 全量:\n",
    "# X_all, y_all = X, y  # 若你手里保留了完整 X, y\n",
    "X_all, y_all = X_train, y_train  # 若你打算用训练折来导出公式\n",
    "\n",
    "xgb_teacher = XGBRegressor(**best_params)\n",
    "xgb_teacher.fit(X_all, y_all)\n",
    "\n",
    "# ===== 2) 标准化特征（保存均值/方差，便于部署复现） =====\n",
    "from sklearn.preprocessing import StandardScaler\n",
    "scaler = StandardScaler()\n",
    "Xz = scaler.fit_transform(X_all)\n",
    "\n",
    "# ===== 3) 线性蒸馏（把老师的预测作为回归目标），得到“公式” =====\n",
    "from sklearn.linear_model import LinearRegression\n",
    "teacher_pred = xgb_teacher.predict(X_all)\n",
    "\n",
    "lin = LinearRegression().fit(Xz, teacher_pred)\n",
    "NEW_INTERCEPT = float(lin.intercept_)\n",
    "Z_COEFFS = dict(zip(FEATURES, map(float, lin.coef_)))\n",
    "\n",
    "print(\"NEW_INTERCEPT =\", NEW_INTERCEPT)\n",
    "print(\"Z_COEFFS =\", Z_COEFFS)\n",
    "\n",
    "# ===== 4) （可选）导出“复杂度 = 1 - success_rate”的线性公式 =====\n",
    "COMPLEXITY_INTERCEPT = 1.0 - NEW_INTERCEPT\n",
    "COMPLEXITY_COEFFS = {k: -v for k, v in Z_COEFFS.items()}\n",
    "\n",
    "print(\"COMPLEXITY_INTERCEPT =\", COMPLEXITY_INTERCEPT)\n",
    "print(\"COMPLEXITY_COEFFS =\", COMPLEXITY_COEFFS)\n",
    "\n",
    "# ===== 5) 保存到 JSON，连同 scaler 一起存（强烈建议）=====\n",
    "import json, os\n",
    "payload = {\n",
    "    \"target\": TARGET,                # 比如 \"success_rate\"\n",
    "    \"new_intercept\": NEW_INTERCEPT,  # 线性蒸馏的截距\n",
    "    \"z_coeffs\": Z_COEFFS,            # 标准化系数字典\n",
    "    \"complexity_intercept\": COMPLEXITY_INTERCEPT,\n",
    "    \"complexity_coeffs\": COMPLEXITY_COEFFS,\n",
    "    \"scaler\": {                      # 用于推理时复现 z 分数\n",
    "        \"feature_order\": FEATURES,\n",
    "        \"means\": scaler.mean_.tolist(),\n",
    "        \"stds\": scaler.scale_.tolist()\n",
    "    },\n",
    "    \"xgb_best_params\": best_params   # 记录老师超参\n",
    "}\n",
    "os.makedirs(OUTDIR, exist_ok=True)\n",
    "with open(os.path.join(OUTDIR, \"linear_formula_from_xgb.json\"), \"w\", encoding=\"utf-8\") as f:\n",
    "    json.dump(payload, f, indent=2, ensure_ascii=False)\n",
    "print(\"Saved ->\", os.path.join(OUTDIR, \"linear_formula_from_xgb.json\"))\n"
   ]
  }
 ],
 "metadata": {
  "kernelspec": {
   "display_name": ".venv38",
   "language": "python",
   "name": "python3"
  },
  "language_info": {
   "codemirror_mode": {
    "name": "ipython",
    "version": 3
   },
   "file_extension": ".py",
   "mimetype": "text/x-python",
   "name": "python",
   "nbconvert_exporter": "python",
   "pygments_lexer": "ipython3",
   "version": "3.8.0"
  }
 },
 "nbformat": 4,
 "nbformat_minor": 5
}
